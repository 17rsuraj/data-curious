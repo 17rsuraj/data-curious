{
 "cells": [
  {
   "cell_type": "markdown",
   "metadata": {},
   "source": [
    "### Create a SQLite Database"
   ]
  },
  {
   "cell_type": "markdown",
   "metadata": {},
   "source": [
    "This notebook demonstrates, how to create and work with SQLite database.\n",
    "Below type of queries are executed in this notebook.\n",
    "- Drop Table\n",
    "- Create Table"
   ]
  },
  {
   "cell_type": "markdown",
   "metadata": {},
   "source": [
    "#### Import the required packages"
   ]
  },
  {
   "cell_type": "code",
   "execution_count": 1,
   "metadata": {},
   "outputs": [
    {
     "name": "stdout",
     "output_type": "stream",
     "text": [
      "All required packages are imported successfully !\n"
     ]
    }
   ],
   "source": [
    "import sqlite3\n",
    "import pandas as pd\n",
    "import matplotlib.pyplot as plt\n",
    "\n",
    "print(\"All required packages are imported successfully !\")"
   ]
  },
  {
   "cell_type": "markdown",
   "metadata": {},
   "source": [
    "#### Load the required extensions\n",
    "\n",
    "To communicate with SQL Databases from a Jupyter notebook, we can use the SQL \"magic\" command provided by the ipython-sql extension. <code>%load_ext sql</code> is the magic command to load the ipython-sql extension. \n",
    "\n",
    "For SQLite Database, this magic is not needed."
   ]
  },
  {
   "cell_type": "markdown",
   "metadata": {},
   "source": [
    "#### Create connection to SQLite Database file\n"
   ]
  },
  {
   "cell_type": "code",
   "execution_count": 2,
   "metadata": {},
   "outputs": [],
   "source": [
    "database = 'tds.sqlite'\n",
    "conn = sqlite3.connect(database)"
   ]
  },
  {
   "cell_type": "markdown",
   "metadata": {},
   "source": [
    "#### Create the Cursor\n",
    "\n"
   ]
  },
  {
   "cell_type": "code",
   "execution_count": 3,
   "metadata": {},
   "outputs": [],
   "source": [
    "cur = conn.cursor()"
   ]
  },
  {
   "cell_type": "markdown",
   "metadata": {},
   "source": [
    "#### Create the Table\n",
    "\n"
   ]
  },
  {
   "cell_type": "code",
   "execution_count": null,
   "metadata": {},
   "outputs": [],
   "source": [
    "drop_table_query = \"DROP TABLE IF EXISTS job\"\n",
    "\n",
    "create_table_query = \"CREATE TABLE IF NOT EXISTS job(\\\n",
    "                        Year INTEGER, DipEngineer INTEGER,\\\n",
    "                        Medical INTEGER, Agriculture INTEGER,\\\n",
    "                        Science INTEGER, Engineer INTEGER,\\\n",
    "                        PGMedical INTEGER, PGAgriculture INTEGER,\\\n",
    "                        PGScience INTEGER)\"\n",
    "cur.execute(drop_table_query)\n",
    "cur.execute(create_table_query)\n",
    "conn.commit()"
   ]
  },
  {
   "cell_type": "markdown",
   "metadata": {},
   "source": [
    "Let's quickly check if the required table is created in the database or not"
   ]
  },
  {
   "cell_type": "code",
   "execution_count": null,
   "metadata": {},
   "outputs": [],
   "source": [
    "check_table_cols = \"SELECT * FROM job\"\n",
    "cur.execute(check_table_cols)\n",
    "col_name_list = [tuple[0] for tuple in cur.description]\n",
    "col_name_list"
   ]
  },
  {
   "cell_type": "markdown",
   "metadata": {},
   "source": [
    "Yess!! All the required columns are created !"
   ]
  },
  {
   "cell_type": "markdown",
   "metadata": {},
   "source": [
    "### Read the data from the Excel File"
   ]
  },
  {
   "cell_type": "markdown",
   "metadata": {},
   "source": [
    "#### 1. Extract"
   ]
  },
  {
   "cell_type": "code",
   "execution_count": 8,
   "metadata": {},
   "outputs": [
    {
     "data": {
      "text/html": [
       "<div>\n",
       "<style scoped>\n",
       "    .dataframe tbody tr th:only-of-type {\n",
       "        vertical-align: middle;\n",
       "    }\n",
       "\n",
       "    .dataframe tbody tr th {\n",
       "        vertical-align: top;\n",
       "    }\n",
       "\n",
       "    .dataframe thead th {\n",
       "        text-align: right;\n",
       "    }\n",
       "</style>\n",
       "<table border=\"1\" class=\"dataframe\">\n",
       "  <thead>\n",
       "    <tr style=\"text-align: right;\">\n",
       "      <th></th>\n",
       "      <th>Year</th>\n",
       "      <th>DipEngineer</th>\n",
       "      <th>Medical</th>\n",
       "      <th>Agriculture</th>\n",
       "      <th>Veterinary</th>\n",
       "      <th>Science</th>\n",
       "      <th>Engineer</th>\n",
       "      <th>GradTotal</th>\n",
       "      <th>PGMedical</th>\n",
       "      <th>PGAgriculture</th>\n",
       "      <th>PGVeterinary</th>\n",
       "      <th>PGScience</th>\n",
       "      <th>PGTotal</th>\n",
       "    </tr>\n",
       "  </thead>\n",
       "  <tbody>\n",
       "    <tr>\n",
       "      <th>0</th>\n",
       "      <td>1971</td>\n",
       "      <td>54056.0</td>\n",
       "      <td>3848</td>\n",
       "      <td>7325</td>\n",
       "      <td>361</td>\n",
       "      <td>99189</td>\n",
       "      <td>19050</td>\n",
       "      <td>129773</td>\n",
       "      <td>105.0</td>\n",
       "      <td>682.0</td>\n",
       "      <td>31.0</td>\n",
       "      <td>10114.0</td>\n",
       "      <td>10932.0</td>\n",
       "    </tr>\n",
       "    <tr>\n",
       "      <th>1</th>\n",
       "      <td>1972</td>\n",
       "      <td>59847.0</td>\n",
       "      <td>5127</td>\n",
       "      <td>9092</td>\n",
       "      <td>200</td>\n",
       "      <td>160644</td>\n",
       "      <td>22808</td>\n",
       "      <td>197871</td>\n",
       "      <td>128.0</td>\n",
       "      <td>810.0</td>\n",
       "      <td>7.0</td>\n",
       "      <td>13642.0</td>\n",
       "      <td>14587.0</td>\n",
       "    </tr>\n",
       "    <tr>\n",
       "      <th>2</th>\n",
       "      <td>1973</td>\n",
       "      <td>55215.0</td>\n",
       "      <td>5664</td>\n",
       "      <td>8913</td>\n",
       "      <td>371</td>\n",
       "      <td>210716</td>\n",
       "      <td>23093</td>\n",
       "      <td>248757</td>\n",
       "      <td>184.0</td>\n",
       "      <td>959.0</td>\n",
       "      <td>19.0</td>\n",
       "      <td>16036.0</td>\n",
       "      <td>17198.0</td>\n",
       "    </tr>\n",
       "    <tr>\n",
       "      <th>3</th>\n",
       "      <td>1974</td>\n",
       "      <td>53901.0</td>\n",
       "      <td>6682</td>\n",
       "      <td>7370</td>\n",
       "      <td>376</td>\n",
       "      <td>215089</td>\n",
       "      <td>19344</td>\n",
       "      <td>248861</td>\n",
       "      <td>238.0</td>\n",
       "      <td>775.0</td>\n",
       "      <td>11.0</td>\n",
       "      <td>17565.0</td>\n",
       "      <td>18589.0</td>\n",
       "    </tr>\n",
       "    <tr>\n",
       "      <th>4</th>\n",
       "      <td>1975</td>\n",
       "      <td>55564.0</td>\n",
       "      <td>7301</td>\n",
       "      <td>7958</td>\n",
       "      <td>511</td>\n",
       "      <td>237607</td>\n",
       "      <td>17316</td>\n",
       "      <td>270693</td>\n",
       "      <td>422.0</td>\n",
       "      <td>887.0</td>\n",
       "      <td>4.0</td>\n",
       "      <td>19374.0</td>\n",
       "      <td>20687.0</td>\n",
       "    </tr>\n",
       "    <tr>\n",
       "      <th>5</th>\n",
       "      <td>1976</td>\n",
       "      <td>62447.0</td>\n",
       "      <td>8249</td>\n",
       "      <td>8285</td>\n",
       "      <td>489</td>\n",
       "      <td>241319</td>\n",
       "      <td>18385</td>\n",
       "      <td>276727</td>\n",
       "      <td>321.0</td>\n",
       "      <td>911.0</td>\n",
       "      <td>13.0</td>\n",
       "      <td>24557.0</td>\n",
       "      <td>25802.0</td>\n",
       "    </tr>\n",
       "    <tr>\n",
       "      <th>6</th>\n",
       "      <td>1977</td>\n",
       "      <td>74319.0</td>\n",
       "      <td>8948</td>\n",
       "      <td>9763</td>\n",
       "      <td>299</td>\n",
       "      <td>265656</td>\n",
       "      <td>19798</td>\n",
       "      <td>304464</td>\n",
       "      <td>385.0</td>\n",
       "      <td>1064.0</td>\n",
       "      <td>46.0</td>\n",
       "      <td>25529.0</td>\n",
       "      <td>27024.0</td>\n",
       "    </tr>\n",
       "    <tr>\n",
       "      <th>7</th>\n",
       "      <td>1978</td>\n",
       "      <td>84317.0</td>\n",
       "      <td>10637</td>\n",
       "      <td>9765</td>\n",
       "      <td>399</td>\n",
       "      <td>281693</td>\n",
       "      <td>20113</td>\n",
       "      <td>322607</td>\n",
       "      <td>627.0</td>\n",
       "      <td>871.0</td>\n",
       "      <td>25.0</td>\n",
       "      <td>25751.0</td>\n",
       "      <td>27274.0</td>\n",
       "    </tr>\n",
       "    <tr>\n",
       "      <th>8</th>\n",
       "      <td>1979</td>\n",
       "      <td>87275.0</td>\n",
       "      <td>12923</td>\n",
       "      <td>10841</td>\n",
       "      <td>433</td>\n",
       "      <td>286639</td>\n",
       "      <td>21781</td>\n",
       "      <td>332617</td>\n",
       "      <td>924.0</td>\n",
       "      <td>850.0</td>\n",
       "      <td>35.0</td>\n",
       "      <td>25788.0</td>\n",
       "      <td>27597.0</td>\n",
       "    </tr>\n",
       "    <tr>\n",
       "      <th>9</th>\n",
       "      <td>1980</td>\n",
       "      <td>90306.0</td>\n",
       "      <td>14809</td>\n",
       "      <td>11375</td>\n",
       "      <td>356</td>\n",
       "      <td>310692</td>\n",
       "      <td>21862</td>\n",
       "      <td>359094</td>\n",
       "      <td>1836.0</td>\n",
       "      <td>546.0</td>\n",
       "      <td>66.0</td>\n",
       "      <td>25651.0</td>\n",
       "      <td>28099.0</td>\n",
       "    </tr>\n",
       "  </tbody>\n",
       "</table>\n",
       "</div>"
      ],
      "text/plain": [
       "   Year  DipEngineer  Medical  Agriculture  Veterinary  Science  Engineer  \\\n",
       "0  1971      54056.0     3848         7325         361    99189     19050   \n",
       "1  1972      59847.0     5127         9092         200   160644     22808   \n",
       "2  1973      55215.0     5664         8913         371   210716     23093   \n",
       "3  1974      53901.0     6682         7370         376   215089     19344   \n",
       "4  1975      55564.0     7301         7958         511   237607     17316   \n",
       "5  1976      62447.0     8249         8285         489   241319     18385   \n",
       "6  1977      74319.0     8948         9763         299   265656     19798   \n",
       "7  1978      84317.0    10637         9765         399   281693     20113   \n",
       "8  1979      87275.0    12923        10841         433   286639     21781   \n",
       "9  1980      90306.0    14809        11375         356   310692     21862   \n",
       "\n",
       "   GradTotal  PGMedical  PGAgriculture  PGVeterinary  PGScience  PGTotal  \n",
       "0     129773      105.0          682.0          31.0    10114.0  10932.0  \n",
       "1     197871      128.0          810.0           7.0    13642.0  14587.0  \n",
       "2     248757      184.0          959.0          19.0    16036.0  17198.0  \n",
       "3     248861      238.0          775.0          11.0    17565.0  18589.0  \n",
       "4     270693      422.0          887.0           4.0    19374.0  20687.0  \n",
       "5     276727      321.0          911.0          13.0    24557.0  25802.0  \n",
       "6     304464      385.0         1064.0          46.0    25529.0  27024.0  \n",
       "7     322607      627.0          871.0          25.0    25751.0  27274.0  \n",
       "8     332617      924.0          850.0          35.0    25788.0  27597.0  \n",
       "9     359094     1836.0          546.0          66.0    25651.0  28099.0  "
      ]
     },
     "execution_count": 8,
     "metadata": {},
     "output_type": "execute_result"
    }
   ],
   "source": [
    "df = pd.read_excel(\"jobseekers.xls\", header=0) \n",
    "df.columns = [\"Year\", \"DipEngineer\", \"Medical\", \"Agriculture\",\\\n",
    "              \"Veterinary\", \"Science\",\"Engineer\",\\\n",
    "              \"GradTotal\", \"PGMedical\",\"PGAgriculture\",\\\n",
    "              \"PGVeterinary\", \"PGScience\", \"PGTotal\"]\n",
    "df.head(10)"
   ]
  },
  {
   "cell_type": "code",
   "execution_count": 9,
   "metadata": {},
   "outputs": [
    {
     "name": "stdout",
     "output_type": "stream",
     "text": [
      "<class 'pandas.core.frame.DataFrame'>\n",
      "RangeIndex: 36 entries, 0 to 35\n",
      "Data columns (total 13 columns):\n",
      " #   Column         Non-Null Count  Dtype  \n",
      "---  ------         --------------  -----  \n",
      " 0   Year           36 non-null     int64  \n",
      " 1   DipEngineer    33 non-null     float64\n",
      " 2   Medical        36 non-null     int64  \n",
      " 3   Agriculture    36 non-null     int64  \n",
      " 4   Veterinary     36 non-null     int64  \n",
      " 5   Science        36 non-null     int64  \n",
      " 6   Engineer       36 non-null     int64  \n",
      " 7   GradTotal      36 non-null     int64  \n",
      " 8   PGMedical      27 non-null     float64\n",
      " 9   PGAgriculture  27 non-null     float64\n",
      " 10  PGVeterinary   26 non-null     float64\n",
      " 11  PGScience      27 non-null     float64\n",
      " 12  PGTotal        27 non-null     float64\n",
      "dtypes: float64(6), int64(7)\n",
      "memory usage: 3.8 KB\n"
     ]
    }
   ],
   "source": [
    "df.info()"
   ]
  },
  {
   "cell_type": "code",
   "execution_count": 12,
   "metadata": {},
   "outputs": [
    {
     "data": {
      "text/plain": [
       "<matplotlib.axes._subplots.AxesSubplot at 0x210d9f28f08>"
      ]
     },
     "execution_count": 12,
     "metadata": {},
     "output_type": "execute_result"
    },
    {
     "data": {
      "image/png": "[encoded data removed]",
      "text/plain": [
       "<Figure size 432x288 with 1 Axes>"
      ]
     },
     "metadata": {
      "needs_background": "light"
     },
     "output_type": "display_data"
    }
   ],
   "source": [
    "df.isna().sum().plot(kind='barh')"
   ]
  },
  {
   "cell_type": "markdown",
   "metadata": {},
   "source": [
    "Looks like, there are few null values in the last 5 columns. Just for simplicity, let's remove the rows containing these null values."
   ]
  },
  {
   "cell_type": "markdown",
   "metadata": {},
   "source": [
    "#### 2. Transform"
   ]
  },
  {
   "cell_type": "code",
   "execution_count": 4,
   "metadata": {},
   "outputs": [
    {
     "name": "stdout",
     "output_type": "stream",
     "text": [
      "<class 'pandas.core.frame.DataFrame'>\n",
      "Int64Index: 26 entries, 0 to 27\n",
      "Data columns (total 13 columns):\n",
      " #   Column         Non-Null Count  Dtype  \n",
      "---  ------         --------------  -----  \n",
      " 0   Year           26 non-null     int64  \n",
      " 1   DipEngineer    26 non-null     float64\n",
      " 2   Medical        26 non-null     int64  \n",
      " 3   Agriculture    26 non-null     int64  \n",
      " 4   Veterinary     26 non-null     int64  \n",
      " 5   Science        26 non-null     int64  \n",
      " 6   Engineer       26 non-null     int64  \n",
      " 7   GradTotal      26 non-null     int64  \n",
      " 8   PGMedical      26 non-null     float64\n",
      " 9   PGAgriculture  26 non-null     float64\n",
      " 10  PGVeterinary   26 non-null     float64\n",
      " 11  PGScience      26 non-null     float64\n",
      " 12  PGTotal        26 non-null     float64\n",
      "dtypes: float64(6), int64(7)\n",
      "memory usage: 2.8 KB\n"
     ]
    }
   ],
   "source": [
    "df.dropna(inplace=True)\n",
    "df.info()"
   ]
  },
  {
   "cell_type": "markdown",
   "metadata": {},
   "source": [
    "Changing the data types of all the columns to int64"
   ]
  },
  {
   "cell_type": "code",
   "execution_count": 5,
   "metadata": {},
   "outputs": [
    {
     "name": "stdout",
     "output_type": "stream",
     "text": [
      "<class 'pandas.core.frame.DataFrame'>\n",
      "Int64Index: 26 entries, 0 to 27\n",
      "Data columns (total 13 columns):\n",
      " #   Column         Non-Null Count  Dtype\n",
      "---  ------         --------------  -----\n",
      " 0   Year           26 non-null     int64\n",
      " 1   DipEngineer    26 non-null     int64\n",
      " 2   Medical        26 non-null     int64\n",
      " 3   Agriculture    26 non-null     int64\n",
      " 4   Veterinary     26 non-null     int64\n",
      " 5   Science        26 non-null     int64\n",
      " 6   Engineer       26 non-null     int64\n",
      " 7   GradTotal      26 non-null     int64\n",
      " 8   PGMedical      26 non-null     int64\n",
      " 9   PGAgriculture  26 non-null     int64\n",
      " 10  PGVeterinary   26 non-null     int64\n",
      " 11  PGScience      26 non-null     int64\n",
      " 12  PGTotal        26 non-null     int64\n",
      "dtypes: int64(13)\n",
      "memory usage: 2.8 KB\n"
     ]
    }
   ],
   "source": [
    "colnames = [\"DipEngineer\", \"PGMedical\", \"PGAgriculture\",\\\n",
    "            \"PGVeterinary\", \"PGScience\", \"PGTotal\"]\n",
    "for col in colnames:\n",
    "    df[col] = df[col].astype(\"int64\")\n",
    "\n",
    "df.info()"
   ]
  },
  {
   "cell_type": "markdown",
   "metadata": {},
   "source": [
    "selecting subset of this dataframe for storing in SQLite database"
   ]
  },
  {
   "cell_type": "code",
   "execution_count": 6,
   "metadata": {},
   "outputs": [
    {
     "data": {
      "text/html": [
       "<div>\n",
       "<style scoped>\n",
       "    .dataframe tbody tr th:only-of-type {\n",
       "        vertical-align: middle;\n",
       "    }\n",
       "\n",
       "    .dataframe tbody tr th {\n",
       "        vertical-align: top;\n",
       "    }\n",
       "\n",
       "    .dataframe thead th {\n",
       "        text-align: right;\n",
       "    }\n",
       "</style>\n",
       "<table border=\"1\" class=\"dataframe\">\n",
       "  <thead>\n",
       "    <tr style=\"text-align: right;\">\n",
       "      <th></th>\n",
       "      <th>Year</th>\n",
       "      <th>DipEngineer</th>\n",
       "      <th>Medical</th>\n",
       "      <th>Agriculture</th>\n",
       "      <th>Science</th>\n",
       "      <th>Engineer</th>\n",
       "      <th>PGMedical</th>\n",
       "      <th>PGAgriculture</th>\n",
       "      <th>PGScience</th>\n",
       "    </tr>\n",
       "  </thead>\n",
       "  <tbody>\n",
       "    <tr>\n",
       "      <th>0</th>\n",
       "      <td>1971</td>\n",
       "      <td>54056</td>\n",
       "      <td>3848</td>\n",
       "      <td>7325</td>\n",
       "      <td>99189</td>\n",
       "      <td>19050</td>\n",
       "      <td>105</td>\n",
       "      <td>682</td>\n",
       "      <td>10114</td>\n",
       "    </tr>\n",
       "    <tr>\n",
       "      <th>1</th>\n",
       "      <td>1972</td>\n",
       "      <td>59847</td>\n",
       "      <td>5127</td>\n",
       "      <td>9092</td>\n",
       "      <td>160644</td>\n",
       "      <td>22808</td>\n",
       "      <td>128</td>\n",
       "      <td>810</td>\n",
       "      <td>13642</td>\n",
       "    </tr>\n",
       "    <tr>\n",
       "      <th>2</th>\n",
       "      <td>1973</td>\n",
       "      <td>55215</td>\n",
       "      <td>5664</td>\n",
       "      <td>8913</td>\n",
       "      <td>210716</td>\n",
       "      <td>23093</td>\n",
       "      <td>184</td>\n",
       "      <td>959</td>\n",
       "      <td>16036</td>\n",
       "    </tr>\n",
       "    <tr>\n",
       "      <th>3</th>\n",
       "      <td>1974</td>\n",
       "      <td>53901</td>\n",
       "      <td>6682</td>\n",
       "      <td>7370</td>\n",
       "      <td>215089</td>\n",
       "      <td>19344</td>\n",
       "      <td>238</td>\n",
       "      <td>775</td>\n",
       "      <td>17565</td>\n",
       "    </tr>\n",
       "    <tr>\n",
       "      <th>4</th>\n",
       "      <td>1975</td>\n",
       "      <td>55564</td>\n",
       "      <td>7301</td>\n",
       "      <td>7958</td>\n",
       "      <td>237607</td>\n",
       "      <td>17316</td>\n",
       "      <td>422</td>\n",
       "      <td>887</td>\n",
       "      <td>19374</td>\n",
       "    </tr>\n",
       "    <tr>\n",
       "      <th>5</th>\n",
       "      <td>1976</td>\n",
       "      <td>62447</td>\n",
       "      <td>8249</td>\n",
       "      <td>8285</td>\n",
       "      <td>241319</td>\n",
       "      <td>18385</td>\n",
       "      <td>321</td>\n",
       "      <td>911</td>\n",
       "      <td>24557</td>\n",
       "    </tr>\n",
       "    <tr>\n",
       "      <th>6</th>\n",
       "      <td>1977</td>\n",
       "      <td>74319</td>\n",
       "      <td>8948</td>\n",
       "      <td>9763</td>\n",
       "      <td>265656</td>\n",
       "      <td>19798</td>\n",
       "      <td>385</td>\n",
       "      <td>1064</td>\n",
       "      <td>25529</td>\n",
       "    </tr>\n",
       "    <tr>\n",
       "      <th>7</th>\n",
       "      <td>1978</td>\n",
       "      <td>84317</td>\n",
       "      <td>10637</td>\n",
       "      <td>9765</td>\n",
       "      <td>281693</td>\n",
       "      <td>20113</td>\n",
       "      <td>627</td>\n",
       "      <td>871</td>\n",
       "      <td>25751</td>\n",
       "    </tr>\n",
       "    <tr>\n",
       "      <th>8</th>\n",
       "      <td>1979</td>\n",
       "      <td>87275</td>\n",
       "      <td>12923</td>\n",
       "      <td>10841</td>\n",
       "      <td>286639</td>\n",
       "      <td>21781</td>\n",
       "      <td>924</td>\n",
       "      <td>850</td>\n",
       "      <td>25788</td>\n",
       "    </tr>\n",
       "    <tr>\n",
       "      <th>9</th>\n",
       "      <td>1980</td>\n",
       "      <td>90306</td>\n",
       "      <td>14809</td>\n",
       "      <td>11375</td>\n",
       "      <td>310692</td>\n",
       "      <td>21862</td>\n",
       "      <td>1836</td>\n",
       "      <td>546</td>\n",
       "      <td>25651</td>\n",
       "    </tr>\n",
       "  </tbody>\n",
       "</table>\n",
       "</div>"
      ],
      "text/plain": [
       "   Year  DipEngineer  Medical  Agriculture  Science  Engineer  PGMedical  \\\n",
       "0  1971        54056     3848         7325    99189     19050        105   \n",
       "1  1972        59847     5127         9092   160644     22808        128   \n",
       "2  1973        55215     5664         8913   210716     23093        184   \n",
       "3  1974        53901     6682         7370   215089     19344        238   \n",
       "4  1975        55564     7301         7958   237607     17316        422   \n",
       "5  1976        62447     8249         8285   241319     18385        321   \n",
       "6  1977        74319     8948         9763   265656     19798        385   \n",
       "7  1978        84317    10637         9765   281693     20113        627   \n",
       "8  1979        87275    12923        10841   286639     21781        924   \n",
       "9  1980        90306    14809        11375   310692     21862       1836   \n",
       "\n",
       "   PGAgriculture  PGScience  \n",
       "0            682      10114  \n",
       "1            810      13642  \n",
       "2            959      16036  \n",
       "3            775      17565  \n",
       "4            887      19374  \n",
       "5            911      24557  \n",
       "6           1064      25529  \n",
       "7            871      25751  \n",
       "8            850      25788  \n",
       "9            546      25651  "
      ]
     },
     "execution_count": 6,
     "metadata": {},
     "output_type": "execute_result"
    }
   ],
   "source": [
    "subdf = df [[\"Year\", \"DipEngineer\", \"Medical\",\\\n",
    "             \"Agriculture\",\"Science\", \"Engineer\",\\\n",
    "             \"PGMedical\", \"PGAgriculture\", \"PGScience\"]]\n",
    "subdf.head(10)"
   ]
  },
  {
   "cell_type": "markdown",
   "metadata": {},
   "source": [
    "#### 3. Load\n",
    "\n",
    "Next step is to load this data in SQLite database"
   ]
  },
  {
   "cell_type": "markdown",
   "metadata": {},
   "source": [
    "### Load the Data in SQLite Database"
   ]
  },
  {
   "cell_type": "code",
   "execution_count": null,
   "metadata": {},
   "outputs": [],
   "source": [
    "subdf.to_sql('job', conn, if_exists=\"append\", index=False)\n",
    "print(\"Data Successfully exported !\")"
   ]
  },
  {
   "cell_type": "code",
   "execution_count": 4,
   "metadata": {},
   "outputs": [
    {
     "data": {
      "text/html": [
       "<div>\n",
       "<style scoped>\n",
       "    .dataframe tbody tr th:only-of-type {\n",
       "        vertical-align: middle;\n",
       "    }\n",
       "\n",
       "    .dataframe tbody tr th {\n",
       "        vertical-align: top;\n",
       "    }\n",
       "\n",
       "    .dataframe thead th {\n",
       "        text-align: right;\n",
       "    }\n",
       "</style>\n",
       "<table border=\"1\" class=\"dataframe\">\n",
       "  <thead>\n",
       "    <tr style=\"text-align: right;\">\n",
       "      <th></th>\n",
       "      <th>Year</th>\n",
       "      <th>Medical</th>\n",
       "      <th>PGMedical</th>\n",
       "    </tr>\n",
       "  </thead>\n",
       "  <tbody>\n",
       "    <tr>\n",
       "      <th>0</th>\n",
       "      <td>1971</td>\n",
       "      <td>3848</td>\n",
       "      <td>105</td>\n",
       "    </tr>\n",
       "    <tr>\n",
       "      <th>1</th>\n",
       "      <td>1972</td>\n",
       "      <td>5127</td>\n",
       "      <td>128</td>\n",
       "    </tr>\n",
       "    <tr>\n",
       "      <th>2</th>\n",
       "      <td>1973</td>\n",
       "      <td>5664</td>\n",
       "      <td>184</td>\n",
       "    </tr>\n",
       "    <tr>\n",
       "      <th>3</th>\n",
       "      <td>1974</td>\n",
       "      <td>6682</td>\n",
       "      <td>238</td>\n",
       "    </tr>\n",
       "    <tr>\n",
       "      <th>4</th>\n",
       "      <td>1975</td>\n",
       "      <td>7301</td>\n",
       "      <td>422</td>\n",
       "    </tr>\n",
       "  </tbody>\n",
       "</table>\n",
       "</div>"
      ],
      "text/plain": [
       "   Year  Medical  PGMedical\n",
       "0  1971     3848        105\n",
       "1  1972     5127        128\n",
       "2  1973     5664        184\n",
       "3  1974     6682        238\n",
       "4  1975     7301        422"
      ]
     },
     "execution_count": 4,
     "metadata": {},
     "output_type": "execute_result"
    }
   ],
   "source": [
    "query = \"SELECT Year, Medical, PGMedical FROM job\"\n",
    "cur.execute(query)\n",
    "conn.commit()\n",
    "result = cur.fetchall()\n",
    "resultdf = pd.DataFrame(result)\n",
    "resultdf.columns = [tuple[0] for tuple in cur.description]\n",
    "resultdf.head()"
   ]
  },
  {
   "cell_type": "markdown",
   "metadata": {},
   "source": [
    "Got it ! The Expected Output !"
   ]
  },
  {
   "cell_type": "markdown",
   "metadata": {},
   "source": [
    "-------------------------------------------------------------------------------------\n",
    "\n",
    "So, the data is successfully entered in the SQLite Database\n",
    "\n",
    "Enjoy the SQL Queries!!!\n",
    "\n",
    "Once finished, close the connection to the database as shown in the next cell."
   ]
  },
  {
   "cell_type": "markdown",
   "metadata": {},
   "source": [
    "----------------------------------------------------------------------------------------------"
   ]
  },
  {
   "cell_type": "code",
   "execution_count": null,
   "metadata": {},
   "outputs": [],
   "source": [
    "conn.close()"
   ]
  },
  {
   "cell_type": "markdown",
   "metadata": {},
   "source": [
    "### Thank you for your Time"
   ]
  },
  {
   "cell_type": "code",
   "execution_count": null,
   "metadata": {},
   "outputs": [],
   "source": []
  }
 ],
 "metadata": {
  "kernelspec": {
   "display_name": "Python 3",
   "language": "python",
   "name": "python3"
  },
  "language_info": {
   "codemirror_mode": {
    "name": "ipython",
    "version": 3
   },
   "file_extension": ".py",
   "mimetype": "text/x-python",
   "name": "python",
   "nbconvert_exporter": "python",
   "pygments_lexer": "ipython3",
   "version": "3.7.6"
  }
 },
 "nbformat": 4,
 "nbformat_minor": 4
}
