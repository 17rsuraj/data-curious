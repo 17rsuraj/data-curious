{
  "nbformat": 4,
  "nbformat_minor": 0,
  "metadata": {
    "colab": {
      "name": "MasterPythonDictionary.ipynb",
      "provenance": []
    },
    "kernelspec": {
      "name": "python3",
      "display_name": "Python 3"
    },
    "language_info": {
      "name": "python"
    }
  },
  "cells": [
    {
      "cell_type": "code",
      "metadata": {
        "colab": {
          "base_uri": "https://localhost:8080/"
        },
        "id": "36NkQzje_-Xo",
        "outputId": "cf339cad-6421-4754-deca-2e4c72334142"
      },
      "source": [
        "mydict = {'A': 1001,\n",
        "          'B': 2002,\n",
        "          'C': 3003,\n",
        "          'D': 4004}\n",
        "mydict"
      ],
      "execution_count": 1,
      "outputs": [
        {
          "output_type": "execute_result",
          "data": {
            "text/plain": [
              "{'A': 1001, 'B': 2002, 'C': 3003, 'D': 4004}"
            ]
          },
          "metadata": {},
          "execution_count": 1
        }
      ]
    },
    {
      "cell_type": "code",
      "metadata": {
        "colab": {
          "base_uri": "https://localhost:8080/"
        },
        "id": "m8a-RN7mFpR6",
        "outputId": "a8336d93-3a9a-47d1-bca2-6764f22d3cd3"
      },
      "source": [
        "mydict.keys()"
      ],
      "execution_count": 2,
      "outputs": [
        {
          "output_type": "execute_result",
          "data": {
            "text/plain": [
              "dict_keys(['A', 'B', 'C', 'D'])"
            ]
          },
          "metadata": {},
          "execution_count": 2
        }
      ]
    },
    {
      "cell_type": "code",
      "metadata": {
        "colab": {
          "base_uri": "https://localhost:8080/"
        },
        "id": "r5ICQ-KNFpAc",
        "outputId": "41f33763-4e41-4454-8157-cd737928694a"
      },
      "source": [
        "mydict.values()"
      ],
      "execution_count": 3,
      "outputs": [
        {
          "output_type": "execute_result",
          "data": {
            "text/plain": [
              "dict_values([1001, 2002, 3003, 4004])"
            ]
          },
          "metadata": {},
          "execution_count": 3
        }
      ]
    },
    {
      "cell_type": "code",
      "metadata": {
        "colab": {
          "base_uri": "https://localhost:8080/"
        },
        "id": "jKVYV_-tFoPs",
        "outputId": "298dcf25-0103-4754-8dbf-128eb285564f"
      },
      "source": [
        "mydict.items()"
      ],
      "execution_count": 4,
      "outputs": [
        {
          "output_type": "execute_result",
          "data": {
            "text/plain": [
              "dict_items([('A', 1001), ('B', 2002), ('C', 3003), ('D', 4004)])"
            ]
          },
          "metadata": {},
          "execution_count": 4
        }
      ]
    },
    {
      "cell_type": "code",
      "metadata": {
        "colab": {
          "base_uri": "https://localhost:8080/"
        },
        "id": "kd2ZPVcTFn48",
        "outputId": "34208202-7747-408a-d21d-0ea8f26e91db"
      },
      "source": [
        "list(mydict.items())"
      ],
      "execution_count": 6,
      "outputs": [
        {
          "output_type": "execute_result",
          "data": {
            "text/plain": [
              "[('A', 1001), ('B', 2002), ('C', 3003), ('D', 4004)]"
            ]
          },
          "metadata": {},
          "execution_count": 6
        }
      ]
    },
    {
      "cell_type": "code",
      "metadata": {
        "colab": {
          "base_uri": "https://localhost:8080/"
        },
        "id": "UnMfg3VpFnpo",
        "outputId": "73bb0781-a8e0-4574-dcea-63ae8314e869"
      },
      "source": [
        "%%timeit\n",
        "mydict['A']"
      ],
      "execution_count": 17,
      "outputs": [
        {
          "output_type": "stream",
          "name": "stdout",
          "text": [
            "The slowest run took 51.76 times longer than the fastest. This could mean that an intermediate result is being cached.\n",
            "10000000 loops, best of 5: 57.2 ns per loop\n"
          ]
        }
      ]
    },
    {
      "cell_type": "code",
      "metadata": {
        "colab": {
          "base_uri": "https://localhost:8080/"
        },
        "id": "Dma-oUCGFnX0",
        "outputId": "963d4da1-7028-4692-8396-0d17c035dc02"
      },
      "source": [
        "%%timeit\n",
        "mydict.get('E')"
      ],
      "execution_count": 18,
      "outputs": [
        {
          "output_type": "stream",
          "name": "stdout",
          "text": [
            "The slowest run took 15.60 times longer than the fastest. This could mean that an intermediate result is being cached.\n",
            "10000000 loops, best of 5: 94.9 ns per loop\n"
          ]
        }
      ]
    },
    {
      "cell_type": "code",
      "metadata": {
        "colab": {
          "base_uri": "https://localhost:8080/"
        },
        "id": "emPBpHpFKj2V",
        "outputId": "40982568-fd09-45bc-e967-962c7b66dbb3"
      },
      "source": [
        "mydict.get('E',9999)"
      ],
      "execution_count": 25,
      "outputs": [
        {
          "output_type": "execute_result",
          "data": {
            "text/plain": [
              "9999"
            ]
          },
          "metadata": {},
          "execution_count": 25
        }
      ]
    },
    {
      "cell_type": "code",
      "metadata": {
        "colab": {
          "base_uri": "https://localhost:8080/"
        },
        "id": "T0BbPntoLffs",
        "outputId": "26ac8cc2-feaa-4e57-c6da-ba49c519a07f"
      },
      "source": [
        "mydict.get('E',[10,12,13])"
      ],
      "execution_count": 26,
      "outputs": [
        {
          "output_type": "execute_result",
          "data": {
            "text/plain": [
              "[10, 12, 13]"
            ]
          },
          "metadata": {},
          "execution_count": 26
        }
      ]
    },
    {
      "cell_type": "code",
      "metadata": {
        "colab": {
          "base_uri": "https://localhost:8080/"
        },
        "id": "hPrvu_eoNG_J",
        "outputId": "5335d041-c65b-4b15-cea6-c33279aeb2f0"
      },
      "source": [
        "mydict['F'] = 5005\n",
        "mydict"
      ],
      "execution_count": 27,
      "outputs": [
        {
          "output_type": "execute_result",
          "data": {
            "text/plain": [
              "{'A': 1001, 'B': 2002, 'C': 3003, 'D': 4004, 'F': 5005}"
            ]
          },
          "metadata": {},
          "execution_count": 27
        }
      ]
    },
    {
      "cell_type": "code",
      "metadata": {
        "colab": {
          "base_uri": "https://localhost:8080/"
        },
        "id": "SXlpOmOfNG71",
        "outputId": "3389a664-ee6b-4d7c-f4eb-a158289fc506"
      },
      "source": [
        "mydict['D'] = 'New_Value'\n",
        "mydict"
      ],
      "execution_count": 28,
      "outputs": [
        {
          "output_type": "execute_result",
          "data": {
            "text/plain": [
              "{'A': 1001, 'B': 2002, 'C': 3003, 'D': 'New_Value', 'F': 5005}"
            ]
          },
          "metadata": {},
          "execution_count": 28
        }
      ]
    },
    {
      "cell_type": "code",
      "metadata": {
        "colab": {
          "base_uri": "https://localhost:8080/"
        },
        "id": "pirFSDyfNG4u",
        "outputId": "121ae534-04f8-4d97-de3f-2ca1a865dfb5"
      },
      "source": [
        "mydict.update([('G', 6006), ('H', 7007)])\n",
        "mydict"
      ],
      "execution_count": 42,
      "outputs": [
        {
          "output_type": "execute_result",
          "data": {
            "text/plain": [
              "{'A': 1001,\n",
              " 'B': 2002,\n",
              " 'C': 3003,\n",
              " 'D': 'New_Value',\n",
              " 'F': 5005,\n",
              " 'G': 6006,\n",
              " 'H': 7007,\n",
              " 'J': 8008}"
            ]
          },
          "metadata": {},
          "execution_count": 42
        }
      ]
    },
    {
      "cell_type": "code",
      "metadata": {
        "colab": {
          "base_uri": "https://localhost:8080/"
        },
        "id": "gEmKkjQuNG1d",
        "outputId": "1a1409d3-a9a2-4b6c-aae5-117dc0806d3f"
      },
      "source": [
        "mydict.update({'J': 8008})\n",
        "mydict"
      ],
      "execution_count": 41,
      "outputs": [
        {
          "output_type": "execute_result",
          "data": {
            "text/plain": [
              "{'A': 1001, 'B': 2002, 'C': 3003, 'D': 'New_Value', 'F': 5005, 'J': 8008}"
            ]
          },
          "metadata": {},
          "execution_count": 41
        }
      ]
    },
    {
      "cell_type": "code",
      "metadata": {
        "colab": {
          "base_uri": "https://localhost:8080/"
        },
        "id": "Y_ztSCIKNGyV",
        "outputId": "91d2305d-7541-4cda-cc1a-7340da606d74"
      },
      "source": [
        "newdict = {'first': 1, 'second': 2}\n",
        "mydict.update(newdict)\n",
        "mydict"
      ],
      "execution_count": 44,
      "outputs": [
        {
          "output_type": "execute_result",
          "data": {
            "text/plain": [
              "{'A': 1001,\n",
              " 'B': 2002,\n",
              " 'C': 3003,\n",
              " 'D': 'New_Value',\n",
              " 'F': 5005,\n",
              " 'G': 6006,\n",
              " 'H': 7007,\n",
              " 'J': 8008,\n",
              " 'first': 1,\n",
              " 'second': 2}"
            ]
          },
          "metadata": {},
          "execution_count": 44
        }
      ]
    },
    {
      "cell_type": "code",
      "metadata": {
        "colab": {
          "base_uri": "https://localhost:8080/"
        },
        "id": "Z4s9xm4eUI0r",
        "outputId": "92072360-869d-4c4f-c987-a1fb93f339b2"
      },
      "source": [
        "del mydict['first']\n",
        "mydict"
      ],
      "execution_count": 45,
      "outputs": [
        {
          "output_type": "execute_result",
          "data": {
            "text/plain": [
              "{'A': 1001,\n",
              " 'B': 2002,\n",
              " 'C': 3003,\n",
              " 'D': 'New_Value',\n",
              " 'F': 5005,\n",
              " 'G': 6006,\n",
              " 'H': 7007,\n",
              " 'J': 8008,\n",
              " 'second': 2}"
            ]
          },
          "metadata": {},
          "execution_count": 45
        }
      ]
    },
    {
      "cell_type": "code",
      "metadata": {
        "colab": {
          "base_uri": "https://localhost:8080/",
          "height": 35
        },
        "id": "RDg-FkITNGqF",
        "outputId": "6308bbe8-ff5f-4940-e7d0-e93c90f12102"
      },
      "source": [
        "mydict.pop('D')"
      ],
      "execution_count": 46,
      "outputs": [
        {
          "output_type": "execute_result",
          "data": {
            "application/vnd.google.colaboratory.intrinsic+json": {
              "type": "string"
            },
            "text/plain": [
              "'New_Value'"
            ]
          },
          "metadata": {},
          "execution_count": 46
        }
      ]
    },
    {
      "cell_type": "code",
      "metadata": {
        "colab": {
          "base_uri": "https://localhost:8080/"
        },
        "id": "8fd3QyuxNGgf",
        "outputId": "68922416-140f-44fe-d022-ebc006992879"
      },
      "source": [
        "mydict"
      ],
      "execution_count": 47,
      "outputs": [
        {
          "output_type": "execute_result",
          "data": {
            "text/plain": [
              "{'A': 1001,\n",
              " 'B': 2002,\n",
              " 'C': 3003,\n",
              " 'F': 5005,\n",
              " 'G': 6006,\n",
              " 'H': 7007,\n",
              " 'J': 8008,\n",
              " 'second': 2}"
            ]
          },
          "metadata": {},
          "execution_count": 47
        }
      ]
    },
    {
      "cell_type": "code",
      "metadata": {
        "colab": {
          "base_uri": "https://localhost:8080/"
        },
        "id": "fgjKxFVGWo4i",
        "outputId": "e337aa35-aaaf-438e-9665-0dbbb84354ad"
      },
      "source": [
        "mydict.pop('Z',10)"
      ],
      "execution_count": 49,
      "outputs": [
        {
          "output_type": "execute_result",
          "data": {
            "text/plain": [
              "10"
            ]
          },
          "metadata": {},
          "execution_count": 49
        }
      ]
    },
    {
      "cell_type": "code",
      "metadata": {
        "colab": {
          "base_uri": "https://localhost:8080/"
        },
        "id": "RF3N8ZNpWojR",
        "outputId": "f666b6ee-8eee-4f27-c956-9386dc0f741b"
      },
      "source": [
        "'A' in mydict"
      ],
      "execution_count": 50,
      "outputs": [
        {
          "output_type": "execute_result",
          "data": {
            "text/plain": [
              "True"
            ]
          },
          "metadata": {},
          "execution_count": 50
        }
      ]
    },
    {
      "cell_type": "code",
      "metadata": {
        "colab": {
          "base_uri": "https://localhost:8080/"
        },
        "id": "QhTC6xDEYY10",
        "outputId": "fdd6fef5-e4c9-475f-81a3-1bdeab156cf1"
      },
      "source": [
        "'Z' not in mydict"
      ],
      "execution_count": 51,
      "outputs": [
        {
          "output_type": "execute_result",
          "data": {
            "text/plain": [
              "True"
            ]
          },
          "metadata": {},
          "execution_count": 51
        }
      ]
    },
    {
      "cell_type": "code",
      "metadata": {
        "colab": {
          "base_uri": "https://localhost:8080/"
        },
        "id": "peCgTgXcYYmc",
        "outputId": "d5a7a3ad-9e57-435c-d6f3-b23c1c564a58"
      },
      "source": [
        "keys = [\"key1\", \"key2\", \"key3\"]\n",
        "values = [\"value1\", \"value2\", \"value3\"]\n",
        "dict_from_lists = dict(zip(keys,values))\n",
        "dict_from_lists"
      ],
      "execution_count": 55,
      "outputs": [
        {
          "output_type": "execute_result",
          "data": {
            "text/plain": [
              "{'key1': 'value1', 'key2': 'value2', 'key3': 'value3'}"
            ]
          },
          "metadata": {},
          "execution_count": 55
        }
      ]
    },
    {
      "cell_type": "code",
      "metadata": {
        "colab": {
          "base_uri": "https://localhost:8080/"
        },
        "id": "GwPjnipAcAY-",
        "outputId": "e2bf57b9-a7c6-4988-f056-5cfefd7e7cd0"
      },
      "source": [
        "pairlist = [('key1',900),(\"key2\",800),(\"key3\",750)]\n",
        "dict_from_tuples = dict(pairlist)\n",
        "dict_from_tuples"
      ],
      "execution_count": 56,
      "outputs": [
        {
          "output_type": "execute_result",
          "data": {
            "text/plain": [
              "{'key1': 900, 'key2': 800, 'key3': 750}"
            ]
          },
          "metadata": {},
          "execution_count": 56
        }
      ]
    },
    {
      "cell_type": "code",
      "metadata": {
        "colab": {
          "base_uri": "https://localhost:8080/"
        },
        "id": "0wCyAFO6cad6",
        "outputId": "1b434c89-4baa-4537-b9b4-7e1b4fd6e09b"
      },
      "source": [
        "dict_from_tuples.keys()"
      ],
      "execution_count": 57,
      "outputs": [
        {
          "output_type": "execute_result",
          "data": {
            "text/plain": [
              "dict_keys(['key1', 'key2', 'key3'])"
            ]
          },
          "metadata": {},
          "execution_count": 57
        }
      ]
    },
    {
      "cell_type": "code",
      "metadata": {
        "id": "H3jNwNu0Ajtl"
      },
      "source": [
        "import time"
      ],
      "execution_count": 8,
      "outputs": []
    },
    {
      "cell_type": "code",
      "metadata": {
        "colab": {
          "base_uri": "https://localhost:8080/"
        },
        "id": "cKPfHuqXAsjK",
        "outputId": "c61cf800-7704-4524-e25a-828800553f2d"
      },
      "source": [
        "st = time.time()\n",
        "mydict.pop('A')\n",
        "print(time.time()-st)"
      ],
      "execution_count": 11,
      "outputs": [
        {
          "output_type": "stream",
          "name": "stdout",
          "text": [
            "5.7697296142578125e-05\n"
          ]
        }
      ]
    },
    {
      "cell_type": "code",
      "metadata": {
        "colab": {
          "base_uri": "https://localhost:8080/"
        },
        "id": "WTXy7ujDBXs3",
        "outputId": "8e8d907e-e3d2-4ee7-d57e-fe0da24a99ab"
      },
      "source": [
        "st = time.time()\n",
        "del mydict['A']\n",
        "print(time.time()-st)"
      ],
      "execution_count": 13,
      "outputs": [
        {
          "output_type": "stream",
          "name": "stdout",
          "text": [
            "6.031990051269531e-05\n"
          ]
        }
      ]
    },
    {
      "cell_type": "code",
      "metadata": {
        "colab": {
          "base_uri": "https://localhost:8080/"
        },
        "id": "78ts1yHkBjTd",
        "outputId": "8ef17103-1730-4a33-83ad-77864504c4d7"
      },
      "source": [
        "mydict.pop('B')"
      ],
      "execution_count": 14,
      "outputs": [
        {
          "output_type": "execute_result",
          "data": {
            "text/plain": [
              "2002"
            ]
          },
          "metadata": {},
          "execution_count": 14
        }
      ]
    },
    {
      "cell_type": "code",
      "metadata": {
        "id": "7tZozPNnBpLY"
      },
      "source": [
        "del mydict['C']"
      ],
      "execution_count": 15,
      "outputs": []
    },
    {
      "cell_type": "code",
      "metadata": {
        "colab": {
          "base_uri": "https://localhost:8080/"
        },
        "id": "TDXhAV5VBrrG",
        "outputId": "2e73be20-8df6-40a6-84da-2083aab2fd3f"
      },
      "source": [
        "mydict"
      ],
      "execution_count": 52,
      "outputs": [
        {
          "output_type": "execute_result",
          "data": {
            "text/plain": [
              "{'A': 1001,\n",
              " 'B': 2002,\n",
              " 'C': 3003,\n",
              " 'F': 5005,\n",
              " 'G': 6006,\n",
              " 'H': 7007,\n",
              " 'J': 8008,\n",
              " 'second': 2}"
            ]
          },
          "metadata": {},
          "execution_count": 52
        }
      ]
    },
    {
      "cell_type": "code",
      "metadata": {
        "id": "9_V0WYLCBtPr"
      },
      "source": [
        "del mydict"
      ],
      "execution_count": 53,
      "outputs": []
    },
    {
      "cell_type": "code",
      "metadata": {
        "colab": {
          "base_uri": "https://localhost:8080/",
          "height": 162
        },
        "id": "pwnHM42qBurB",
        "outputId": "257c1b39-4326-4475-c0ff-c0973ed87b89"
      },
      "source": [
        "mydict"
      ],
      "execution_count": 54,
      "outputs": [
        {
          "output_type": "error",
          "ename": "NameError",
          "evalue": "ignored",
          "traceback": [
            "\u001b[0;31m---------------------------------------------------------------------------\u001b[0m",
            "\u001b[0;31mNameError\u001b[0m                                 Traceback (most recent call last)",
            "\u001b[0;32m<ipython-input-54-a0537c24f321>\u001b[0m in \u001b[0;36m<module>\u001b[0;34m()\u001b[0m\n\u001b[0;32m----> 1\u001b[0;31m \u001b[0mmydict\u001b[0m\u001b[0;34m\u001b[0m\u001b[0;34m\u001b[0m\u001b[0m\n\u001b[0m",
            "\u001b[0;31mNameError\u001b[0m: name 'mydict' is not defined"
          ]
        }
      ]
    },
    {
      "cell_type": "markdown",
      "metadata": {
        "id": "SJ6VAwa5a-cd"
      },
      "source": [
        "Dictionary is now deleted!"
      ]
    },
    {
      "cell_type": "code",
      "metadata": {
        "id": "us_OSAwtBwGc"
      },
      "source": [
        ""
      ],
      "execution_count": null,
      "outputs": []
    }
  ]
}