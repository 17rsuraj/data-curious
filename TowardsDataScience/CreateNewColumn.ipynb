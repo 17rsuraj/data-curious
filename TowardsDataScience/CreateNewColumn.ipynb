{
 "cells": [
  {
   "cell_type": "code",
   "execution_count": 7,
   "id": "a5cc2647",
   "metadata": {},
   "outputs": [
    {
     "data": {
      "text/html": [
       "<style>.container { width:100% !important; }</style>"
      ],
      "text/plain": [
       "<IPython.core.display.HTML object>"
      ]
     },
     "metadata": {},
     "output_type": "display_data"
    }
   ],
   "source": [
    "import pandas as pd\n",
    "import numpy as np\n",
    "import time\n",
    "import os\n",
    "import seaborn as sns\n",
    "from IPython.core.display import display, HTML\n",
    "display(HTML(\"<style>.container { width:100% !important; }</style>\"))"
   ]
  },
  {
   "cell_type": "code",
   "execution_count": 2,
   "id": "85eadec0",
   "metadata": {},
   "outputs": [
    {
     "data": {
      "text/html": [
       "<div>\n",
       "<style scoped>\n",
       "    .dataframe tbody tr th:only-of-type {\n",
       "        vertical-align: middle;\n",
       "    }\n",
       "\n",
       "    .dataframe tbody tr th {\n",
       "        vertical-align: top;\n",
       "    }\n",
       "\n",
       "    .dataframe thead th {\n",
       "        text-align: right;\n",
       "    }\n",
       "</style>\n",
       "<table border=\"1\" class=\"dataframe\">\n",
       "  <thead>\n",
       "    <tr style=\"text-align: right;\">\n",
       "      <th></th>\n",
       "      <th>OrderID</th>\n",
       "      <th>Quantity</th>\n",
       "      <th>UnitPrice(USD)</th>\n",
       "      <th>Status</th>\n",
       "      <th>OrderDate</th>\n",
       "      <th>Product_Category</th>\n",
       "      <th>Sales_Manager</th>\n",
       "      <th>Shipping_Cost(USD)</th>\n",
       "      <th>Delivery_Time(Days)</th>\n",
       "      <th>Shipping_Address</th>\n",
       "      <th>Product_Code</th>\n",
       "    </tr>\n",
       "  </thead>\n",
       "  <tbody>\n",
       "    <tr>\n",
       "      <th>0</th>\n",
       "      <td>29511</td>\n",
       "      <td>92</td>\n",
       "      <td>238</td>\n",
       "      <td>Not Delivered</td>\n",
       "      <td>2021-08-08</td>\n",
       "      <td>Healthcare</td>\n",
       "      <td>Pablo</td>\n",
       "      <td>21</td>\n",
       "      <td>25.0</td>\n",
       "      <td>Singapore</td>\n",
       "      <td>HC-188</td>\n",
       "    </tr>\n",
       "    <tr>\n",
       "      <th>1</th>\n",
       "      <td>21819</td>\n",
       "      <td>61</td>\n",
       "      <td>136</td>\n",
       "      <td>Not Delivered</td>\n",
       "      <td>2021-10-03</td>\n",
       "      <td>Office</td>\n",
       "      <td>Pablo</td>\n",
       "      <td>34</td>\n",
       "      <td>14.0</td>\n",
       "      <td>UK</td>\n",
       "      <td>O-555</td>\n",
       "    </tr>\n",
       "    <tr>\n",
       "      <th>2</th>\n",
       "      <td>32391</td>\n",
       "      <td>67</td>\n",
       "      <td>235</td>\n",
       "      <td>Not Delivered</td>\n",
       "      <td>2021-09-27</td>\n",
       "      <td>Office</td>\n",
       "      <td>Kristen</td>\n",
       "      <td>25</td>\n",
       "      <td>11.0</td>\n",
       "      <td>Kenya</td>\n",
       "      <td>O-188</td>\n",
       "    </tr>\n",
       "    <tr>\n",
       "      <th>3</th>\n",
       "      <td>11126</td>\n",
       "      <td>33</td>\n",
       "      <td>133</td>\n",
       "      <td>Not Shipped</td>\n",
       "      <td>2021-07-30</td>\n",
       "      <td>Fashion</td>\n",
       "      <td>Abdul</td>\n",
       "      <td>34</td>\n",
       "      <td>24.0</td>\n",
       "      <td>USA</td>\n",
       "      <td>F-555</td>\n",
       "    </tr>\n",
       "    <tr>\n",
       "      <th>4</th>\n",
       "      <td>15483</td>\n",
       "      <td>13</td>\n",
       "      <td>189</td>\n",
       "      <td>Not Delivered</td>\n",
       "      <td>2021-08-15</td>\n",
       "      <td>Fashion</td>\n",
       "      <td>Stella</td>\n",
       "      <td>24</td>\n",
       "      <td>19.0</td>\n",
       "      <td>Kenya</td>\n",
       "      <td>F-555</td>\n",
       "    </tr>\n",
       "  </tbody>\n",
       "</table>\n",
       "</div>"
      ],
      "text/plain": [
       "   OrderID  Quantity  UnitPrice(USD)         Status  OrderDate  \\\n",
       "0    29511        92             238  Not Delivered 2021-08-08   \n",
       "1    21819        61             136  Not Delivered 2021-10-03   \n",
       "2    32391        67             235  Not Delivered 2021-09-27   \n",
       "3    11126        33             133    Not Shipped 2021-07-30   \n",
       "4    15483        13             189  Not Delivered 2021-08-15   \n",
       "\n",
       "  Product_Category Sales_Manager  Shipping_Cost(USD)  Delivery_Time(Days)  \\\n",
       "0       Healthcare         Pablo                  21                 25.0   \n",
       "1           Office         Pablo                  34                 14.0   \n",
       "2           Office       Kristen                  25                 11.0   \n",
       "3          Fashion         Abdul                  34                 24.0   \n",
       "4          Fashion        Stella                  24                 19.0   \n",
       "\n",
       "  Shipping_Address Product_Code  \n",
       "0        Singapore       HC-188  \n",
       "1               UK        O-555  \n",
       "2            Kenya        O-188  \n",
       "3              USA        F-555  \n",
       "4            Kenya        F-555  "
      ]
     },
     "execution_count": 2,
     "metadata": {},
     "output_type": "execute_result"
    }
   ],
   "source": [
    "df = pd.read_excel(\"Dummy_Sales_Data.xlsx\")\n",
    "df.head()"
   ]
  },
  {
   "cell_type": "code",
   "execution_count": 3,
   "id": "d899f541",
   "metadata": {},
   "outputs": [
    {
     "name": "stdout",
     "output_type": "stream",
     "text": [
      "<class 'pandas.core.frame.DataFrame'>\n",
      "RangeIndex: 9999 entries, 0 to 9998\n",
      "Data columns (total 11 columns):\n",
      " #   Column               Non-Null Count  Dtype         \n",
      "---  ------               --------------  -----         \n",
      " 0   OrderID              9999 non-null   int64         \n",
      " 1   Quantity             9999 non-null   int64         \n",
      " 2   UnitPrice(USD)       9999 non-null   int64         \n",
      " 3   Status               9999 non-null   object        \n",
      " 4   OrderDate            9999 non-null   datetime64[ns]\n",
      " 5   Product_Category     9963 non-null   object        \n",
      " 6   Sales_Manager        9999 non-null   object        \n",
      " 7   Shipping_Cost(USD)   9999 non-null   int64         \n",
      " 8   Delivery_Time(Days)  9948 non-null   float64       \n",
      " 9   Shipping_Address     9999 non-null   object        \n",
      " 10  Product_Code         9999 non-null   object        \n",
      "dtypes: datetime64[ns](1), float64(1), int64(4), object(5)\n",
      "memory usage: 859.4+ KB\n"
     ]
    }
   ],
   "source": [
    "df.info()"
   ]
  },
  {
   "cell_type": "code",
   "execution_count": 4,
   "id": "7154902a",
   "metadata": {},
   "outputs": [
    {
     "data": {
      "text/plain": [
       "<AxesSubplot:xlabel='Quantity'>"
      ]
     },
     "execution_count": 4,
     "metadata": {},
     "output_type": "execute_result"
    },
    {
     "data": {
      "image/png": "[encoded data removed]",
      "text/plain": [
       "<Figure size 432x288 with 1 Axes>"
      ]
     },
     "metadata": {
      "needs_background": "light"
     },
     "output_type": "display_data"
    }
   ],
   "source": [
    "sns.boxplot(x=df[\"Quantity\"])"
   ]
  },
  {
   "cell_type": "markdown",
   "id": "583dfcd8",
   "metadata": {},
   "source": [
    "### 1"
   ]
  },
  {
   "cell_type": "code",
   "execution_count": 8,
   "id": "bd18485c",
   "metadata": {},
   "outputs": [],
   "source": [
    "def shipsize(row):  \n",
    "    if row['Quantity'] > 0 and row['Quantity'] <= 30:\n",
    "        return 'Small'\n",
    "    elif row['Quantity'] > 30 and row['Quantity'] <= 60:\n",
    "        return 'Medium'\n",
    "    elif row['Quantity'] > 60  and row['Quantity'] <= 100:\n",
    "        return 'Large'\n",
    "    return 'NotDefined'"
   ]
  },
  {
   "cell_type": "code",
   "execution_count": 9,
   "id": "5659c657",
   "metadata": {},
   "outputs": [
    {
     "data": {
      "text/html": [
       "<div>\n",
       "<style scoped>\n",
       "    .dataframe tbody tr th:only-of-type {\n",
       "        vertical-align: middle;\n",
       "    }\n",
       "\n",
       "    .dataframe tbody tr th {\n",
       "        vertical-align: top;\n",
       "    }\n",
       "\n",
       "    .dataframe thead th {\n",
       "        text-align: right;\n",
       "    }\n",
       "</style>\n",
       "<table border=\"1\" class=\"dataframe\">\n",
       "  <thead>\n",
       "    <tr style=\"text-align: right;\">\n",
       "      <th></th>\n",
       "      <th>OrderID</th>\n",
       "      <th>Quantity</th>\n",
       "      <th>UnitPrice(USD)</th>\n",
       "      <th>Status</th>\n",
       "      <th>OrderDate</th>\n",
       "      <th>Product_Category</th>\n",
       "      <th>Sales_Manager</th>\n",
       "      <th>Shipping_Cost(USD)</th>\n",
       "      <th>Delivery_Time(Days)</th>\n",
       "      <th>Shipping_Address</th>\n",
       "      <th>Product_Code</th>\n",
       "      <th>Shipment_Size</th>\n",
       "    </tr>\n",
       "  </thead>\n",
       "  <tbody>\n",
       "    <tr>\n",
       "      <th>0</th>\n",
       "      <td>29511</td>\n",
       "      <td>92</td>\n",
       "      <td>238</td>\n",
       "      <td>Not Delivered</td>\n",
       "      <td>2021-08-08</td>\n",
       "      <td>Healthcare</td>\n",
       "      <td>Pablo</td>\n",
       "      <td>21</td>\n",
       "      <td>25.0</td>\n",
       "      <td>Singapore</td>\n",
       "      <td>HC-188</td>\n",
       "      <td>Large</td>\n",
       "    </tr>\n",
       "    <tr>\n",
       "      <th>1</th>\n",
       "      <td>21819</td>\n",
       "      <td>61</td>\n",
       "      <td>136</td>\n",
       "      <td>Not Delivered</td>\n",
       "      <td>2021-10-03</td>\n",
       "      <td>Office</td>\n",
       "      <td>Pablo</td>\n",
       "      <td>34</td>\n",
       "      <td>14.0</td>\n",
       "      <td>UK</td>\n",
       "      <td>O-555</td>\n",
       "      <td>Large</td>\n",
       "    </tr>\n",
       "    <tr>\n",
       "      <th>2</th>\n",
       "      <td>32391</td>\n",
       "      <td>67</td>\n",
       "      <td>235</td>\n",
       "      <td>Not Delivered</td>\n",
       "      <td>2021-09-27</td>\n",
       "      <td>Office</td>\n",
       "      <td>Kristen</td>\n",
       "      <td>25</td>\n",
       "      <td>11.0</td>\n",
       "      <td>Kenya</td>\n",
       "      <td>O-188</td>\n",
       "      <td>Large</td>\n",
       "    </tr>\n",
       "    <tr>\n",
       "      <th>3</th>\n",
       "      <td>11126</td>\n",
       "      <td>33</td>\n",
       "      <td>133</td>\n",
       "      <td>Not Shipped</td>\n",
       "      <td>2021-07-30</td>\n",
       "      <td>Fashion</td>\n",
       "      <td>Abdul</td>\n",
       "      <td>34</td>\n",
       "      <td>24.0</td>\n",
       "      <td>USA</td>\n",
       "      <td>F-555</td>\n",
       "      <td>Medium</td>\n",
       "    </tr>\n",
       "    <tr>\n",
       "      <th>4</th>\n",
       "      <td>15483</td>\n",
       "      <td>13</td>\n",
       "      <td>189</td>\n",
       "      <td>Not Delivered</td>\n",
       "      <td>2021-08-15</td>\n",
       "      <td>Fashion</td>\n",
       "      <td>Stella</td>\n",
       "      <td>24</td>\n",
       "      <td>19.0</td>\n",
       "      <td>Kenya</td>\n",
       "      <td>F-555</td>\n",
       "      <td>Small</td>\n",
       "    </tr>\n",
       "  </tbody>\n",
       "</table>\n",
       "</div>"
      ],
      "text/plain": [
       "   OrderID  Quantity  UnitPrice(USD)         Status  OrderDate  \\\n",
       "0    29511        92             238  Not Delivered 2021-08-08   \n",
       "1    21819        61             136  Not Delivered 2021-10-03   \n",
       "2    32391        67             235  Not Delivered 2021-09-27   \n",
       "3    11126        33             133    Not Shipped 2021-07-30   \n",
       "4    15483        13             189  Not Delivered 2021-08-15   \n",
       "\n",
       "  Product_Category Sales_Manager  Shipping_Cost(USD)  Delivery_Time(Days)  \\\n",
       "0       Healthcare         Pablo                  21                 25.0   \n",
       "1           Office         Pablo                  34                 14.0   \n",
       "2           Office       Kristen                  25                 11.0   \n",
       "3          Fashion         Abdul                  34                 24.0   \n",
       "4          Fashion        Stella                  24                 19.0   \n",
       "\n",
       "  Shipping_Address Product_Code Shipment_Size  \n",
       "0        Singapore       HC-188         Large  \n",
       "1               UK        O-555         Large  \n",
       "2            Kenya        O-188         Large  \n",
       "3              USA        F-555        Medium  \n",
       "4            Kenya        F-555         Small  "
      ]
     },
     "execution_count": 9,
     "metadata": {},
     "output_type": "execute_result"
    }
   ],
   "source": [
    "df['Shipment_Size'] = df.apply(lambda row: shipsize(row), axis=1)\n",
    "df.head()"
   ]
  },
  {
   "cell_type": "code",
   "execution_count": 27,
   "id": "2b63e269",
   "metadata": {},
   "outputs": [
    {
     "data": {
      "text/html": [
       "<div>\n",
       "<style scoped>\n",
       "    .dataframe tbody tr th:only-of-type {\n",
       "        vertical-align: middle;\n",
       "    }\n",
       "\n",
       "    .dataframe tbody tr th {\n",
       "        vertical-align: top;\n",
       "    }\n",
       "\n",
       "    .dataframe thead th {\n",
       "        text-align: right;\n",
       "    }\n",
       "</style>\n",
       "<table border=\"1\" class=\"dataframe\">\n",
       "  <thead>\n",
       "    <tr style=\"text-align: right;\">\n",
       "      <th></th>\n",
       "      <th>OrderID</th>\n",
       "      <th>Quantity</th>\n",
       "      <th>UnitPrice(USD)</th>\n",
       "      <th>Status</th>\n",
       "      <th>OrderDate</th>\n",
       "      <th>Product_Category</th>\n",
       "      <th>Sales_Manager</th>\n",
       "      <th>Shipping_Cost(USD)</th>\n",
       "      <th>Delivery_Time(Days)</th>\n",
       "      <th>Shipping_Address</th>\n",
       "      <th>Product_Code</th>\n",
       "      <th>colF</th>\n",
       "    </tr>\n",
       "  </thead>\n",
       "  <tbody>\n",
       "    <tr>\n",
       "      <th>0</th>\n",
       "      <td>29511</td>\n",
       "      <td>92</td>\n",
       "      <td>238</td>\n",
       "      <td>Not Delivered</td>\n",
       "      <td>2021-08-08</td>\n",
       "      <td>Healthcare</td>\n",
       "      <td>Pablo</td>\n",
       "      <td>21</td>\n",
       "      <td>25.0</td>\n",
       "      <td>Singapore</td>\n",
       "      <td>HC-188</td>\n",
       "      <td>Large</td>\n",
       "    </tr>\n",
       "    <tr>\n",
       "      <th>1</th>\n",
       "      <td>21819</td>\n",
       "      <td>61</td>\n",
       "      <td>136</td>\n",
       "      <td>Not Delivered</td>\n",
       "      <td>2021-10-03</td>\n",
       "      <td>Office</td>\n",
       "      <td>Pablo</td>\n",
       "      <td>34</td>\n",
       "      <td>14.0</td>\n",
       "      <td>UK</td>\n",
       "      <td>O-555</td>\n",
       "      <td>Large</td>\n",
       "    </tr>\n",
       "    <tr>\n",
       "      <th>2</th>\n",
       "      <td>32391</td>\n",
       "      <td>67</td>\n",
       "      <td>235</td>\n",
       "      <td>Not Delivered</td>\n",
       "      <td>2021-09-27</td>\n",
       "      <td>Office</td>\n",
       "      <td>Kristen</td>\n",
       "      <td>25</td>\n",
       "      <td>11.0</td>\n",
       "      <td>Kenya</td>\n",
       "      <td>O-188</td>\n",
       "      <td>Large</td>\n",
       "    </tr>\n",
       "    <tr>\n",
       "      <th>3</th>\n",
       "      <td>11126</td>\n",
       "      <td>33</td>\n",
       "      <td>133</td>\n",
       "      <td>Not Shipped</td>\n",
       "      <td>2021-07-30</td>\n",
       "      <td>Fashion</td>\n",
       "      <td>Abdul</td>\n",
       "      <td>34</td>\n",
       "      <td>24.0</td>\n",
       "      <td>USA</td>\n",
       "      <td>F-555</td>\n",
       "      <td>Medium</td>\n",
       "    </tr>\n",
       "    <tr>\n",
       "      <th>4</th>\n",
       "      <td>15483</td>\n",
       "      <td>13</td>\n",
       "      <td>189</td>\n",
       "      <td>Not Delivered</td>\n",
       "      <td>2021-08-15</td>\n",
       "      <td>Fashion</td>\n",
       "      <td>Stella</td>\n",
       "      <td>24</td>\n",
       "      <td>19.0</td>\n",
       "      <td>Kenya</td>\n",
       "      <td>F-555</td>\n",
       "      <td>Small</td>\n",
       "    </tr>\n",
       "  </tbody>\n",
       "</table>\n",
       "</div>"
      ],
      "text/plain": [
       "   OrderID  Quantity  UnitPrice(USD)         Status  OrderDate  \\\n",
       "0    29511        92             238  Not Delivered 2021-08-08   \n",
       "1    21819        61             136  Not Delivered 2021-10-03   \n",
       "2    32391        67             235  Not Delivered 2021-09-27   \n",
       "3    11126        33             133    Not Shipped 2021-07-30   \n",
       "4    15483        13             189  Not Delivered 2021-08-15   \n",
       "\n",
       "  Product_Category Sales_Manager  Shipping_Cost(USD)  Delivery_Time(Days)  \\\n",
       "0       Healthcare         Pablo                  21                 25.0   \n",
       "1           Office         Pablo                  34                 14.0   \n",
       "2           Office       Kristen                  25                 11.0   \n",
       "3          Fashion         Abdul                  34                 24.0   \n",
       "4          Fashion        Stella                  24                 19.0   \n",
       "\n",
       "  Shipping_Address Product_Code    colF  \n",
       "0        Singapore       HC-188   Large  \n",
       "1               UK        O-555   Large  \n",
       "2            Kenya        O-188   Large  \n",
       "3              USA        F-555  Medium  \n",
       "4            Kenya        F-555   Small  "
      ]
     },
     "execution_count": 27,
     "metadata": {},
     "output_type": "execute_result"
    }
   ],
   "source": [
    "df.drop([\"Shipment_Size\"], axis=1, inplace=True)\n",
    "df.head()\n"
   ]
  },
  {
   "cell_type": "markdown",
   "id": "557d3765",
   "metadata": {},
   "source": [
    "### 2"
   ]
  },
  {
   "cell_type": "code",
   "execution_count": 19,
   "id": "a845e214",
   "metadata": {},
   "outputs": [],
   "source": [
    "condlist = [\n",
    "  np.logical_and(df['Quantity'].gt(0), np.less_equal(df['Quantity'], 30)),\n",
    "  np.logical_and(df['Quantity'].gt(30), np.less_equal(df['Quantity'],60)),\n",
    "  np.logical_and(df['Quantity'].gt(60), np.less_equal(df['Quantity'],100)),\n",
    "]\n",
    "\n",
    "choicelist = [\"Small\",\"Medium\",\"Large\"]"
   ]
  },
  {
   "cell_type": "code",
   "execution_count": 20,
   "id": "bdeea898",
   "metadata": {},
   "outputs": [
    {
     "data": {
      "text/html": [
       "<div>\n",
       "<style scoped>\n",
       "    .dataframe tbody tr th:only-of-type {\n",
       "        vertical-align: middle;\n",
       "    }\n",
       "\n",
       "    .dataframe tbody tr th {\n",
       "        vertical-align: top;\n",
       "    }\n",
       "\n",
       "    .dataframe thead th {\n",
       "        text-align: right;\n",
       "    }\n",
       "</style>\n",
       "<table border=\"1\" class=\"dataframe\">\n",
       "  <thead>\n",
       "    <tr style=\"text-align: right;\">\n",
       "      <th></th>\n",
       "      <th>OrderID</th>\n",
       "      <th>Quantity</th>\n",
       "      <th>UnitPrice(USD)</th>\n",
       "      <th>Status</th>\n",
       "      <th>OrderDate</th>\n",
       "      <th>Product_Category</th>\n",
       "      <th>Sales_Manager</th>\n",
       "      <th>Shipping_Cost(USD)</th>\n",
       "      <th>Delivery_Time(Days)</th>\n",
       "      <th>Shipping_Address</th>\n",
       "      <th>Product_Code</th>\n",
       "      <th>Shipment_Size</th>\n",
       "    </tr>\n",
       "  </thead>\n",
       "  <tbody>\n",
       "    <tr>\n",
       "      <th>0</th>\n",
       "      <td>29511</td>\n",
       "      <td>92</td>\n",
       "      <td>238</td>\n",
       "      <td>Not Delivered</td>\n",
       "      <td>2021-08-08</td>\n",
       "      <td>Healthcare</td>\n",
       "      <td>Pablo</td>\n",
       "      <td>21</td>\n",
       "      <td>25.0</td>\n",
       "      <td>Singapore</td>\n",
       "      <td>HC-188</td>\n",
       "      <td>Large</td>\n",
       "    </tr>\n",
       "    <tr>\n",
       "      <th>1</th>\n",
       "      <td>21819</td>\n",
       "      <td>61</td>\n",
       "      <td>136</td>\n",
       "      <td>Not Delivered</td>\n",
       "      <td>2021-10-03</td>\n",
       "      <td>Office</td>\n",
       "      <td>Pablo</td>\n",
       "      <td>34</td>\n",
       "      <td>14.0</td>\n",
       "      <td>UK</td>\n",
       "      <td>O-555</td>\n",
       "      <td>Large</td>\n",
       "    </tr>\n",
       "    <tr>\n",
       "      <th>2</th>\n",
       "      <td>32391</td>\n",
       "      <td>67</td>\n",
       "      <td>235</td>\n",
       "      <td>Not Delivered</td>\n",
       "      <td>2021-09-27</td>\n",
       "      <td>Office</td>\n",
       "      <td>Kristen</td>\n",
       "      <td>25</td>\n",
       "      <td>11.0</td>\n",
       "      <td>Kenya</td>\n",
       "      <td>O-188</td>\n",
       "      <td>Large</td>\n",
       "    </tr>\n",
       "    <tr>\n",
       "      <th>3</th>\n",
       "      <td>11126</td>\n",
       "      <td>33</td>\n",
       "      <td>133</td>\n",
       "      <td>Not Shipped</td>\n",
       "      <td>2021-07-30</td>\n",
       "      <td>Fashion</td>\n",
       "      <td>Abdul</td>\n",
       "      <td>34</td>\n",
       "      <td>24.0</td>\n",
       "      <td>USA</td>\n",
       "      <td>F-555</td>\n",
       "      <td>Medium</td>\n",
       "    </tr>\n",
       "    <tr>\n",
       "      <th>4</th>\n",
       "      <td>15483</td>\n",
       "      <td>13</td>\n",
       "      <td>189</td>\n",
       "      <td>Not Delivered</td>\n",
       "      <td>2021-08-15</td>\n",
       "      <td>Fashion</td>\n",
       "      <td>Stella</td>\n",
       "      <td>24</td>\n",
       "      <td>19.0</td>\n",
       "      <td>Kenya</td>\n",
       "      <td>F-555</td>\n",
       "      <td>Small</td>\n",
       "    </tr>\n",
       "  </tbody>\n",
       "</table>\n",
       "</div>"
      ],
      "text/plain": [
       "   OrderID  Quantity  UnitPrice(USD)         Status  OrderDate  \\\n",
       "0    29511        92             238  Not Delivered 2021-08-08   \n",
       "1    21819        61             136  Not Delivered 2021-10-03   \n",
       "2    32391        67             235  Not Delivered 2021-09-27   \n",
       "3    11126        33             133    Not Shipped 2021-07-30   \n",
       "4    15483        13             189  Not Delivered 2021-08-15   \n",
       "\n",
       "  Product_Category Sales_Manager  Shipping_Cost(USD)  Delivery_Time(Days)  \\\n",
       "0       Healthcare         Pablo                  21                 25.0   \n",
       "1           Office         Pablo                  34                 14.0   \n",
       "2           Office       Kristen                  25                 11.0   \n",
       "3          Fashion         Abdul                  34                 24.0   \n",
       "4          Fashion        Stella                  24                 19.0   \n",
       "\n",
       "  Shipping_Address Product_Code Shipment_Size  \n",
       "0        Singapore       HC-188         Large  \n",
       "1               UK        O-555         Large  \n",
       "2            Kenya        O-188         Large  \n",
       "3              USA        F-555        Medium  \n",
       "4            Kenya        F-555         Small  "
      ]
     },
     "execution_count": 20,
     "metadata": {},
     "output_type": "execute_result"
    }
   ],
   "source": [
    "df[\"Shipment_Size\"] = pd.Series(np.select(condlist, choicelist, 'NotDefined'))\n",
    "df.head()"
   ]
  },
  {
   "cell_type": "code",
   "execution_count": 16,
   "id": "f3c4a1da",
   "metadata": {},
   "outputs": [
    {
     "name": "stdout",
     "output_type": "stream",
     "text": [
      "351 ms ± 46.7 ms per loop (mean ± std. dev. of 7 runs, 1 loop each)\n"
     ]
    }
   ],
   "source": [
    "%%timeit\n",
    "df['Shipment_Size'] = df.apply(lambda row: shipsize(row), axis=1)"
   ]
  },
  {
   "cell_type": "code",
   "execution_count": 17,
   "id": "749e8e36",
   "metadata": {},
   "outputs": [
    {
     "name": "stdout",
     "output_type": "stream",
     "text": [
      "2.26 ms ± 225 µs per loop (mean ± std. dev. of 7 runs, 100 loops each)\n"
     ]
    }
   ],
   "source": [
    "%%timeit\n",
    "df[\"Shipment_Size\"] = pd.Series(np.select(conditions, shipsizes, 'NotDefined'))"
   ]
  },
  {
   "cell_type": "code",
   "execution_count": 18,
   "id": "620c5cf0",
   "metadata": {},
   "outputs": [
    {
     "data": {
      "text/plain": [
       "155.30973451327435"
      ]
     },
     "execution_count": 18,
     "metadata": {},
     "output_type": "execute_result"
    }
   ],
   "source": [
    "351/2.26"
   ]
  },
  {
   "cell_type": "code",
   "execution_count": 21,
   "id": "2254a399",
   "metadata": {},
   "outputs": [],
   "source": [
    "t = np.select(condlist, choicelist, 'NotDefined')"
   ]
  },
  {
   "cell_type": "code",
   "execution_count": 22,
   "id": "e792c2ab",
   "metadata": {},
   "outputs": [
    {
     "data": {
      "text/plain": [
       "numpy.ndarray"
      ]
     },
     "execution_count": 22,
     "metadata": {},
     "output_type": "execute_result"
    }
   ],
   "source": [
    "type(t)"
   ]
  },
  {
   "cell_type": "markdown",
   "id": "29851a1f",
   "metadata": {},
   "source": [
    "### 3"
   ]
  },
  {
   "cell_type": "code",
   "execution_count": 29,
   "id": "208c82c6",
   "metadata": {},
   "outputs": [
    {
     "data": {
      "text/html": [
       "<div>\n",
       "<style scoped>\n",
       "    .dataframe tbody tr th:only-of-type {\n",
       "        vertical-align: middle;\n",
       "    }\n",
       "\n",
       "    .dataframe tbody tr th {\n",
       "        vertical-align: top;\n",
       "    }\n",
       "\n",
       "    .dataframe thead th {\n",
       "        text-align: right;\n",
       "    }\n",
       "</style>\n",
       "<table border=\"1\" class=\"dataframe\">\n",
       "  <thead>\n",
       "    <tr style=\"text-align: right;\">\n",
       "      <th></th>\n",
       "      <th>OrderID</th>\n",
       "      <th>Quantity</th>\n",
       "      <th>UnitPrice(USD)</th>\n",
       "      <th>Status</th>\n",
       "      <th>OrderDate</th>\n",
       "      <th>Product_Category</th>\n",
       "      <th>Sales_Manager</th>\n",
       "      <th>Shipping_Cost(USD)</th>\n",
       "      <th>Delivery_Time(Days)</th>\n",
       "      <th>Shipping_Address</th>\n",
       "      <th>Product_Code</th>\n",
       "      <th>colF</th>\n",
       "      <th>Shipment_Size</th>\n",
       "    </tr>\n",
       "  </thead>\n",
       "  <tbody>\n",
       "    <tr>\n",
       "      <th>0</th>\n",
       "      <td>29511</td>\n",
       "      <td>92</td>\n",
       "      <td>238</td>\n",
       "      <td>Not Delivered</td>\n",
       "      <td>2021-08-08</td>\n",
       "      <td>Healthcare</td>\n",
       "      <td>Pablo</td>\n",
       "      <td>21</td>\n",
       "      <td>25.0</td>\n",
       "      <td>Singapore</td>\n",
       "      <td>HC-188</td>\n",
       "      <td>Large</td>\n",
       "      <td>Large</td>\n",
       "    </tr>\n",
       "    <tr>\n",
       "      <th>1</th>\n",
       "      <td>21819</td>\n",
       "      <td>61</td>\n",
       "      <td>136</td>\n",
       "      <td>Not Delivered</td>\n",
       "      <td>2021-10-03</td>\n",
       "      <td>Office</td>\n",
       "      <td>Pablo</td>\n",
       "      <td>34</td>\n",
       "      <td>14.0</td>\n",
       "      <td>UK</td>\n",
       "      <td>O-555</td>\n",
       "      <td>Large</td>\n",
       "      <td>Large</td>\n",
       "    </tr>\n",
       "    <tr>\n",
       "      <th>2</th>\n",
       "      <td>32391</td>\n",
       "      <td>67</td>\n",
       "      <td>235</td>\n",
       "      <td>Not Delivered</td>\n",
       "      <td>2021-09-27</td>\n",
       "      <td>Office</td>\n",
       "      <td>Kristen</td>\n",
       "      <td>25</td>\n",
       "      <td>11.0</td>\n",
       "      <td>Kenya</td>\n",
       "      <td>O-188</td>\n",
       "      <td>Large</td>\n",
       "      <td>Large</td>\n",
       "    </tr>\n",
       "    <tr>\n",
       "      <th>3</th>\n",
       "      <td>11126</td>\n",
       "      <td>33</td>\n",
       "      <td>133</td>\n",
       "      <td>Not Shipped</td>\n",
       "      <td>2021-07-30</td>\n",
       "      <td>Fashion</td>\n",
       "      <td>Abdul</td>\n",
       "      <td>34</td>\n",
       "      <td>24.0</td>\n",
       "      <td>USA</td>\n",
       "      <td>F-555</td>\n",
       "      <td>Medium</td>\n",
       "      <td>Medium</td>\n",
       "    </tr>\n",
       "    <tr>\n",
       "      <th>4</th>\n",
       "      <td>15483</td>\n",
       "      <td>13</td>\n",
       "      <td>189</td>\n",
       "      <td>Not Delivered</td>\n",
       "      <td>2021-08-15</td>\n",
       "      <td>Fashion</td>\n",
       "      <td>Stella</td>\n",
       "      <td>24</td>\n",
       "      <td>19.0</td>\n",
       "      <td>Kenya</td>\n",
       "      <td>F-555</td>\n",
       "      <td>Small</td>\n",
       "      <td>Small</td>\n",
       "    </tr>\n",
       "  </tbody>\n",
       "</table>\n",
       "</div>"
      ],
      "text/plain": [
       "   OrderID  Quantity  UnitPrice(USD)         Status  OrderDate  \\\n",
       "0    29511        92             238  Not Delivered 2021-08-08   \n",
       "1    21819        61             136  Not Delivered 2021-10-03   \n",
       "2    32391        67             235  Not Delivered 2021-09-27   \n",
       "3    11126        33             133    Not Shipped 2021-07-30   \n",
       "4    15483        13             189  Not Delivered 2021-08-15   \n",
       "\n",
       "  Product_Category Sales_Manager  Shipping_Cost(USD)  Delivery_Time(Days)  \\\n",
       "0       Healthcare         Pablo                  21                 25.0   \n",
       "1           Office         Pablo                  34                 14.0   \n",
       "2           Office       Kristen                  25                 11.0   \n",
       "3          Fashion         Abdul                  34                 24.0   \n",
       "4          Fashion        Stella                  24                 19.0   \n",
       "\n",
       "  Shipping_Address Product_Code    colF Shipment_Size  \n",
       "0        Singapore       HC-188   Large         Large  \n",
       "1               UK        O-555   Large         Large  \n",
       "2            Kenya        O-188   Large         Large  \n",
       "3              USA        F-555  Medium        Medium  \n",
       "4            Kenya        F-555   Small         Small  "
      ]
     },
     "execution_count": 29,
     "metadata": {},
     "output_type": "execute_result"
    }
   ],
   "source": [
    "df.loc[np.logical_and(df['Quantity'].gt(0), np.less_equal(df['Quantity'], 30)), 'Shipment_Size'] = 'Small'\n",
    "df.loc[np.logical_and(df['Quantity'].gt(30), np.less_equal(df['Quantity'], 60)),'Shipment_Size'] = 'Medium'\n",
    "df.loc[np.logical_and(df['Quantity'].gt(60), np.less_equal(df['Quantity'], 100)),'Shipment_Size'] = 'Large'\n",
    "df['Shipment_Size'].fillna('NotDefines', inplace=True)\n",
    "df.head()"
   ]
  },
  {
   "cell_type": "code",
   "execution_count": 28,
   "id": "d89eaf8d",
   "metadata": {},
   "outputs": [
    {
     "name": "stdout",
     "output_type": "stream",
     "text": [
      "6.53 ms ± 462 µs per loop (mean ± std. dev. of 7 runs, 100 loops each)\n"
     ]
    }
   ],
   "source": [
    "%%timeit\n",
    "df.loc[np.logical_and(df['Quantity'].gt(0), np.less_equal(df['Quantity'], 30)), 'Shipment_Size'] = 'Small'\n",
    "df.loc[np.logical_and(df['Quantity'].gt(30), np.less_equal(df['Quantity'], 60)),'Shipment_Size'] = 'Medium'\n",
    "df.loc[np.logical_and(df['Quantity'].gt(60), np.less_equal(df['Quantity'], 100)),'Shipment_Size'] = 'Large'\n",
    "df['Shipment_Size'].fillna('NotDefines', inplace=True)"
   ]
  },
  {
   "cell_type": "code",
   "execution_count": 30,
   "id": "c18704f4",
   "metadata": {},
   "outputs": [
    {
     "data": {
      "text/plain": [
       "53.75191424196018"
      ]
     },
     "execution_count": 30,
     "metadata": {},
     "output_type": "execute_result"
    }
   ],
   "source": [
    "351/6.53"
   ]
  },
  {
   "cell_type": "code",
   "execution_count": null,
   "id": "c3863eed",
   "metadata": {},
   "outputs": [],
   "source": []
  }
 ],
 "metadata": {
  "kernelspec": {
   "display_name": "Python 3",
   "language": "python",
   "name": "python3"
  },
  "language_info": {
   "codemirror_mode": {
    "name": "ipython",
    "version": 3
   },
   "file_extension": ".py",
   "mimetype": "text/x-python",
   "name": "python",
   "nbconvert_exporter": "python",
   "pygments_lexer": "ipython3",
   "version": "3.8.8"
  }
 },
 "nbformat": 4,
 "nbformat_minor": 5
}
