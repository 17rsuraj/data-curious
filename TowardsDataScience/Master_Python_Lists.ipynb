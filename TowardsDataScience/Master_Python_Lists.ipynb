{
  "nbformat": 4,
  "nbformat_minor": 0,
  "metadata": {
    "colab": {
      "name": "Master-Python-Lists.ipynb",
      "provenance": []
    },
    "kernelspec": {
      "name": "python3",
      "display_name": "Python 3"
    },
    "language_info": {
      "name": "python"
    }
  },
  "cells": [
    {
      "cell_type": "markdown",
      "metadata": {
        "id": "pTlbWKqwcmUT"
      },
      "source": [
        "##### Create list by List Comprehension"
      ]
    },
    {
      "cell_type": "code",
      "metadata": {
        "colab": {
          "base_uri": "https://localhost:8080/"
        },
        "id": "oQoTT4XLcWSn",
        "outputId": "8ebc22e9-30e5-4662-c71e-6454e998ce1d"
      },
      "source": [
        "mylist = [_ for _ in \"ABCDEFGHIJKLM\"]\n",
        "mylist"
      ],
      "execution_count": 8,
      "outputs": [
        {
          "output_type": "execute_result",
          "data": {
            "text/plain": [
              "['A', 'B', 'C', 'D', 'E', 'F', 'G', 'H', 'I', 'J', 'K', 'L', 'M']"
            ]
          },
          "metadata": {},
          "execution_count": 8
        }
      ]
    },
    {
      "cell_type": "markdown",
      "metadata": {
        "id": "1Z5eJBHxc7O2"
      },
      "source": [
        "##### Adds an item at the end of the list --> append()"
      ]
    },
    {
      "cell_type": "code",
      "metadata": {
        "colab": {
          "base_uri": "https://localhost:8080/"
        },
        "id": "r_Wv_iNEc2Dx",
        "outputId": "97079c4c-876e-4975-f740-c56f72846daf"
      },
      "source": [
        "mylist.append([100, 200])\n",
        "mylist"
      ],
      "execution_count": 9,
      "outputs": [
        {
          "output_type": "execute_result",
          "data": {
            "text/plain": [
              "['A', 'B', 'C', 'D', 'E', 'F', 'G', 'H', 'I', 'J', 'K', 'L', 'M', [100, 200]]"
            ]
          },
          "metadata": {},
          "execution_count": 9
        }
      ]
    },
    {
      "cell_type": "markdown",
      "metadata": {
        "id": "vWEy0pj-dSI8"
      },
      "source": [
        "##### Add the items of a iterable, to the end of the current list --> extend()"
      ]
    },
    {
      "cell_type": "code",
      "metadata": {
        "colab": {
          "base_uri": "https://localhost:8080/"
        },
        "id": "QQRCFdUzdQCW",
        "outputId": "ee18e837-0821-4dbc-d288-a44e05d1f940"
      },
      "source": [
        "mylist.extend(\"THIS\")\n",
        "print(mylist)"
      ],
      "execution_count": 10,
      "outputs": [
        {
          "output_type": "stream",
          "name": "stdout",
          "text": [
            "['A', 'B', 'C', 'D', 'E', 'F', 'G', 'H', 'I', 'J', 'K', 'L', 'M', [100, 200], 'T', 'H', 'I', 'S']\n"
          ]
        }
      ]
    },
    {
      "cell_type": "markdown",
      "metadata": {
        "id": "T1nQHIKndqkq"
      },
      "source": [
        "##### Add an item at the specified position --> insert()"
      ]
    },
    {
      "cell_type": "code",
      "metadata": {
        "colab": {
          "base_uri": "https://localhost:8080/"
        },
        "id": "cYd6rq9rdkbN",
        "outputId": "02889482-2c1f-4a5d-b103-7c8c93fe5d5d"
      },
      "source": [
        "mylist.insert(1, 20.35)\n",
        "print(mylist)"
      ],
      "execution_count": 11,
      "outputs": [
        {
          "output_type": "stream",
          "name": "stdout",
          "text": [
            "['A', 20.35, 'B', 'C', 'D', 'E', 'F', 'G', 'H', 'I', 'J', 'K', 'L', 'M', [100, 200], 'T', 'H', 'I', 'S']\n"
          ]
        }
      ]
    },
    {
      "cell_type": "markdown",
      "metadata": {
        "id": "IlQCVX8reFFT"
      },
      "source": [
        "##### Remove the first occurence of specified item --> remove()"
      ]
    },
    {
      "cell_type": "code",
      "metadata": {
        "colab": {
          "base_uri": "https://localhost:8080/"
        },
        "id": "e96D2G8md6_7",
        "outputId": "6c6eb6cb-55ba-4e14-acc1-71e8cf4759c1"
      },
      "source": [
        "mylist.remove(\"H\")\n",
        "print(mylist)"
      ],
      "execution_count": 12,
      "outputs": [
        {
          "output_type": "stream",
          "name": "stdout",
          "text": [
            "['A', 20.35, 'B', 'C', 'D', 'E', 'F', 'G', 'I', 'J', 'K', 'L', 'M', [100, 200], 'T', 'H', 'I', 'S']\n"
          ]
        }
      ]
    },
    {
      "cell_type": "markdown",
      "metadata": {
        "id": "8sBdIkn1ecDb"
      },
      "source": [
        "##### Removes the item at the specified position --> pop(index)"
      ]
    },
    {
      "cell_type": "code",
      "metadata": {
        "colab": {
          "base_uri": "https://localhost:8080/"
        },
        "id": "fmVdYUCxebKG",
        "outputId": "a19984d6-7644-4ebb-d72a-c7e843537103"
      },
      "source": [
        "mylist.pop(-5)"
      ],
      "execution_count": 13,
      "outputs": [
        {
          "output_type": "execute_result",
          "data": {
            "text/plain": [
              "[100, 200]"
            ]
          },
          "metadata": {},
          "execution_count": 13
        }
      ]
    },
    {
      "cell_type": "markdown",
      "metadata": {
        "id": "pYC8KzXEemtU"
      },
      "source": [
        "##### Removes the item at the end of the list --> pop()"
      ]
    },
    {
      "cell_type": "code",
      "metadata": {
        "colab": {
          "base_uri": "https://localhost:8080/",
          "height": 35
        },
        "id": "D1KkLQBPesRs",
        "outputId": "cb12c97c-fde2-4d11-edde-33012bcd5dab"
      },
      "source": [
        "mylist.pop()"
      ],
      "execution_count": 14,
      "outputs": [
        {
          "output_type": "execute_result",
          "data": {
            "application/vnd.google.colaboratory.intrinsic+json": {
              "type": "string"
            },
            "text/plain": [
              "'S'"
            ]
          },
          "metadata": {},
          "execution_count": 14
        }
      ]
    },
    {
      "cell_type": "markdown",
      "metadata": {
        "id": "QCoLsM7Ce4ky"
      },
      "source": [
        "##### Get the index of the first occurence of the specified item --> index()"
      ]
    },
    {
      "cell_type": "code",
      "metadata": {
        "colab": {
          "base_uri": "https://localhost:8080/"
        },
        "id": "j4gZpmMee3E_",
        "outputId": "50fb55f9-9e22-4693-c121-dcd007af9e2e"
      },
      "source": [
        "mylist.index(\"I\")"
      ],
      "execution_count": 15,
      "outputs": [
        {
          "output_type": "execute_result",
          "data": {
            "text/plain": [
              "8"
            ]
          },
          "metadata": {},
          "execution_count": 15
        }
      ]
    },
    {
      "cell_type": "markdown",
      "metadata": {
        "id": "qBB5qV0NfYpw"
      },
      "source": [
        "##### Reverse the order of the list --> reverse()"
      ]
    },
    {
      "cell_type": "code",
      "metadata": {
        "colab": {
          "base_uri": "https://localhost:8080/"
        },
        "id": "xPoXdayIfIQ4",
        "outputId": "522e4c3f-7679-457f-aecc-121df15cda6c"
      },
      "source": [
        "mylist.reverse()\n",
        "print(mylist)"
      ],
      "execution_count": 18,
      "outputs": [
        {
          "output_type": "stream",
          "name": "stdout",
          "text": [
            "['I', 'H', 'T', 'M', 'L', 'K', 'J', 'I', 'G', 'F', 'E', 'D', 'C', 'B', 20.35, 'A']\n"
          ]
        }
      ]
    },
    {
      "cell_type": "markdown",
      "metadata": {
        "id": "nMaIZPgMfnjl"
      },
      "source": [
        "##### Get the number of occurences of the specified item"
      ]
    },
    {
      "cell_type": "code",
      "metadata": {
        "colab": {
          "base_uri": "https://localhost:8080/"
        },
        "id": "RYwvoJ8Vfdjl",
        "outputId": "faec188c-f8a0-4baa-cd5b-3b01df8d2ce9"
      },
      "source": [
        "mylist.count(\"I\")"
      ],
      "execution_count": 19,
      "outputs": [
        {
          "output_type": "execute_result",
          "data": {
            "text/plain": [
              "2"
            ]
          },
          "metadata": {},
          "execution_count": 19
        }
      ]
    },
    {
      "cell_type": "markdown",
      "metadata": {
        "id": "I_HN5Ty-f-1u"
      },
      "source": [
        "##### Sort the list --> sort()"
      ]
    },
    {
      "cell_type": "code",
      "metadata": {
        "colab": {
          "base_uri": "https://localhost:8080/"
        },
        "id": "bzTBbgBkf4Y6",
        "outputId": "909b7e16-288a-4bd4-c2c3-b581525a6b94"
      },
      "source": [
        "# As comparison can not happen between string and float, let's remove the float value\n",
        "mylist.remove(20.35)\n",
        "mylist.sort()\n",
        "print(mylist)"
      ],
      "execution_count": 21,
      "outputs": [
        {
          "output_type": "stream",
          "name": "stdout",
          "text": [
            "['A', 'B', 'C', 'D', 'E', 'F', 'G', 'H', 'I', 'I', 'J', 'K', 'L', 'M', 'T']\n"
          ]
        }
      ]
    },
    {
      "cell_type": "markdown",
      "metadata": {
        "id": "GveAgEnMgjqr"
      },
      "source": [
        "##### Check if item is present in the list --> **`in`**"
      ]
    },
    {
      "cell_type": "code",
      "metadata": {
        "colab": {
          "base_uri": "https://localhost:8080/"
        },
        "id": "5PWdo9MMgLwM",
        "outputId": "dd2ab6ec-f913-4e03-adb5-a0652c97dba0"
      },
      "source": [
        "\"T\" in mylist"
      ],
      "execution_count": 22,
      "outputs": [
        {
          "output_type": "execute_result",
          "data": {
            "text/plain": [
              "True"
            ]
          },
          "metadata": {},
          "execution_count": 22
        }
      ]
    },
    {
      "cell_type": "markdown",
      "metadata": {
        "id": "AE0Xuhozg1Xy"
      },
      "source": [
        "##### Check if an item is not present in the list --> **`not in`**"
      ]
    },
    {
      "cell_type": "code",
      "metadata": {
        "colab": {
          "base_uri": "https://localhost:8080/"
        },
        "id": "7hwMKUa6g0Fm",
        "outputId": "0ab62019-5489-411e-fa13-7146a8039580"
      },
      "source": [
        "20.35 not in mylist"
      ],
      "execution_count": 23,
      "outputs": [
        {
          "output_type": "execute_result",
          "data": {
            "text/plain": [
              "True"
            ]
          },
          "metadata": {},
          "execution_count": 23
        }
      ]
    },
    {
      "cell_type": "markdown",
      "metadata": {
        "id": "QvakQfKYhFPD"
      },
      "source": [
        "##### Create a new list by copying **`mylist`** --> copy()"
      ]
    },
    {
      "cell_type": "code",
      "metadata": {
        "colab": {
          "base_uri": "https://localhost:8080/"
        },
        "id": "iQTf9L7mhAlj",
        "outputId": "7941232f-3744-4ff5-a422-4bec42c06740"
      },
      "source": [
        "newlist = mylist.copy()\n",
        "print(newlist)"
      ],
      "execution_count": 24,
      "outputs": [
        {
          "output_type": "stream",
          "name": "stdout",
          "text": [
            "['A', 'B', 'C', 'D', 'E', 'F', 'G', 'H', 'I', 'I', 'J', 'K', 'L', 'M', 'T']\n"
          ]
        }
      ]
    },
    {
      "cell_type": "markdown",
      "metadata": {
        "id": "qeQRo7uNha4w"
      },
      "source": [
        "##### Getting index and items at those indexes from the list"
      ]
    },
    {
      "cell_type": "code",
      "metadata": {
        "colab": {
          "base_uri": "https://localhost:8080/"
        },
        "id": "ja-1lkQRhSUT",
        "outputId": "bec0caf7-acf3-4e22-ec7c-44eaacdd4a83"
      },
      "source": [
        "for idx in range(0,len(mylist)):\n",
        "  print(f\"mylist[{idx}] = {mylist[idx]}\")"
      ],
      "execution_count": 29,
      "outputs": [
        {
          "output_type": "stream",
          "name": "stdout",
          "text": [
            "mylist[0] = A\n",
            "mylist[1] = B\n",
            "mylist[2] = C\n",
            "mylist[3] = D\n",
            "mylist[4] = E\n",
            "mylist[5] = F\n",
            "mylist[6] = G\n",
            "mylist[7] = H\n",
            "mylist[8] = I\n",
            "mylist[9] = I\n",
            "mylist[10] = J\n",
            "mylist[11] = K\n",
            "mylist[12] = L\n",
            "mylist[13] = M\n",
            "mylist[14] = T\n"
          ]
        }
      ]
    },
    {
      "cell_type": "markdown",
      "metadata": {
        "id": "C80s1O3niecY"
      },
      "source": [
        "##### Get Reverse Indexing index"
      ]
    },
    {
      "cell_type": "code",
      "metadata": {
        "colab": {
          "base_uri": "https://localhost:8080/"
        },
        "id": "iX8uQ2yXhzqx",
        "outputId": "a5407807-99e3-43f4-ce4b-742c72026a83"
      },
      "source": [
        "import numpy as np\n",
        "for idx in list(np.arange(len(mylist),0,-1)*-1):\n",
        "  print(f\"mylist[{idx}] = {mylist[idx]}\")"
      ],
      "execution_count": 32,
      "outputs": [
        {
          "output_type": "stream",
          "name": "stdout",
          "text": [
            "mylist[-15] = A\n",
            "mylist[-14] = B\n",
            "mylist[-13] = C\n",
            "mylist[-12] = D\n",
            "mylist[-11] = E\n",
            "mylist[-10] = F\n",
            "mylist[-9] = G\n",
            "mylist[-8] = H\n",
            "mylist[-7] = I\n",
            "mylist[-6] = I\n",
            "mylist[-5] = J\n",
            "mylist[-4] = K\n",
            "mylist[-3] = L\n",
            "mylist[-2] = M\n",
            "mylist[-1] = T\n"
          ]
        }
      ]
    },
    {
      "cell_type": "markdown",
      "metadata": {
        "id": "jn4oclQHjdyR"
      },
      "source": [
        "##### Get the length of the list --> `len(name_of_list)`"
      ]
    },
    {
      "cell_type": "code",
      "metadata": {
        "colab": {
          "base_uri": "https://localhost:8080/"
        },
        "id": "v3Pf9rVqjo_J",
        "outputId": "03853009-1a0c-49b1-bdc3-5018ad62096e"
      },
      "source": [
        "len(mylist)"
      ],
      "execution_count": 33,
      "outputs": [
        {
          "output_type": "execute_result",
          "data": {
            "text/plain": [
              "15"
            ]
          },
          "metadata": {},
          "execution_count": 33
        }
      ]
    },
    {
      "cell_type": "markdown",
      "metadata": {
        "id": "-TNoGeBdjUpR"
      },
      "source": [
        "##### Remove all items from the list --> clear()"
      ]
    },
    {
      "cell_type": "code",
      "metadata": {
        "colab": {
          "base_uri": "https://localhost:8080/"
        },
        "id": "DGg69gpEiwUB",
        "outputId": "2747c0e4-b304-48df-d863-5fff315aa785"
      },
      "source": [
        "mylist.clear()\n",
        "print(mylist)"
      ],
      "execution_count": 34,
      "outputs": [
        {
          "output_type": "stream",
          "name": "stdout",
          "text": [
            "[]\n"
          ]
        }
      ]
    },
    {
      "cell_type": "markdown",
      "metadata": {
        "id": "25YNbVoZjxTZ"
      },
      "source": [
        "##### Delete the list --> `del(name_of_list)`"
      ]
    },
    {
      "cell_type": "code",
      "metadata": {
        "id": "X81HhkCHjv4n"
      },
      "source": [
        "del(mylist)"
      ],
      "execution_count": 35,
      "outputs": []
    },
    {
      "cell_type": "code",
      "metadata": {
        "id": "qlKii_rsj55P"
      },
      "source": [
        "##### Thank you for reading"
      ],
      "execution_count": null,
      "outputs": []
    }
  ]
}