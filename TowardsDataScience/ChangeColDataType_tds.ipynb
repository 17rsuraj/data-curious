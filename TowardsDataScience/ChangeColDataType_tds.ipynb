{
 "cells": [
  {
   "cell_type": "code",
   "execution_count": 1,
   "metadata": {},
   "outputs": [],
   "source": [
    "import pandas as pd"
   ]
  },
  {
   "cell_type": "code",
   "execution_count": 2,
   "metadata": {},
   "outputs": [
    {
     "data": {
      "text/html": [
       "<div>\n",
       "<style scoped>\n",
       "    .dataframe tbody tr th:only-of-type {\n",
       "        vertical-align: middle;\n",
       "    }\n",
       "\n",
       "    .dataframe tbody tr th {\n",
       "        vertical-align: top;\n",
       "    }\n",
       "\n",
       "    .dataframe thead th {\n",
       "        text-align: right;\n",
       "    }\n",
       "</style>\n",
       "<table border=\"1\" class=\"dataframe\">\n",
       "  <thead>\n",
       "    <tr style=\"text-align: right;\">\n",
       "      <th></th>\n",
       "      <th>Car</th>\n",
       "      <th>Color</th>\n",
       "      <th>Year</th>\n",
       "      <th>Rating</th>\n",
       "      <th>Service</th>\n",
       "    </tr>\n",
       "  </thead>\n",
       "  <tbody>\n",
       "    <tr>\n",
       "      <th>0</th>\n",
       "      <td>A</td>\n",
       "      <td>Red</td>\n",
       "      <td>1990</td>\n",
       "      <td>2.5</td>\n",
       "      <td>30/05/2010</td>\n",
       "    </tr>\n",
       "    <tr>\n",
       "      <th>1</th>\n",
       "      <td>B</td>\n",
       "      <td>Yellow</td>\n",
       "      <td>1980</td>\n",
       "      <td>1.5</td>\n",
       "      <td>31/08/1999</td>\n",
       "    </tr>\n",
       "    <tr>\n",
       "      <th>2</th>\n",
       "      <td>C</td>\n",
       "      <td>Black</td>\n",
       "      <td>2003</td>\n",
       "      <td>3.8</td>\n",
       "      <td>28/12/2005</td>\n",
       "    </tr>\n",
       "    <tr>\n",
       "      <th>3</th>\n",
       "      <td>D</td>\n",
       "      <td>Green</td>\n",
       "      <td>2000</td>\n",
       "      <td>9.7</td>\n",
       "      <td>29/06/2011</td>\n",
       "    </tr>\n",
       "    <tr>\n",
       "      <th>4</th>\n",
       "      <td>E</td>\n",
       "      <td>Black</td>\n",
       "      <td>2001</td>\n",
       "      <td>8.9</td>\n",
       "      <td>30/12/2020</td>\n",
       "    </tr>\n",
       "  </tbody>\n",
       "</table>\n",
       "</div>"
      ],
      "text/plain": [
       "  Car   Color  Year Rating     Service\n",
       "0   A     Red  1990    2.5  30/05/2010\n",
       "1   B  Yellow  1980    1.5  31/08/1999\n",
       "2   C   Black  2003    3.8  28/12/2005\n",
       "3   D   Green  2000    9.7  29/06/2011\n",
       "4   E   Black  2001    8.9  30/12/2020"
      ]
     },
     "execution_count": 2,
     "metadata": {},
     "output_type": "execute_result"
    }
   ],
   "source": [
    "import pandas as pd\n",
    "\n",
    "data = {\"Car\": [\"A\", \"B\", \"C\",\"D\", \"E\", \"F\", \"G\", \"H\"],\\\n",
    "     \"Color\": [\"Red\", \"Yellow\", \"Black\", \"Green\", \"Black\", \"Red\", \"Black\", \"Black\"],\\\n",
    "     \"Year\": [\"1990\", \"1980\", \"2003\", \"2000\", \"2001\", \"2004\", \"1999\", \"2020\"],\\\n",
    "     \"Rating\": [\"2.5\", \"1.5\", \"3.8\", \"9.7\", \"8.9\", \"3.2\", \"5.5\", \"6.9\"],\\\n",
    "     \"Service\": [\"30/05/2010\", \"31/08/1999\", \"28/12/2005\", \"29/06/2011\",\\\n",
    "                 \"30/12/2020\", \"31/07/2013\", \"28/11/2000\", \"25/12/2020\"]}\n",
    "df = pd.DataFrame(data)\n",
    "df.head()"
   ]
  },
  {
   "cell_type": "code",
   "execution_count": 3,
   "metadata": {},
   "outputs": [
    {
     "name": "stdout",
     "output_type": "stream",
     "text": [
      "<class 'pandas.core.frame.DataFrame'>\n",
      "RangeIndex: 8 entries, 0 to 7\n",
      "Data columns (total 5 columns):\n",
      " #   Column   Non-Null Count  Dtype \n",
      "---  ------   --------------  ----- \n",
      " 0   Car      8 non-null      object\n",
      " 1   Color    8 non-null      object\n",
      " 2   Year     8 non-null      object\n",
      " 3   Rating   8 non-null      object\n",
      " 4   Service  8 non-null      object\n",
      "dtypes: object(5)\n",
      "memory usage: 448.0+ bytes\n"
     ]
    }
   ],
   "source": [
    "df.info()"
   ]
  },
  {
   "cell_type": "markdown",
   "metadata": {},
   "source": [
    "### Method 1: \n",
    "## as_type()"
   ]
  },
  {
   "cell_type": "code",
   "execution_count": 4,
   "metadata": {},
   "outputs": [],
   "source": [
    "df1 = df.copy()"
   ]
  },
  {
   "cell_type": "code",
   "execution_count": 5,
   "metadata": {},
   "outputs": [
    {
     "data": {
      "text/html": [
       "<div>\n",
       "<style scoped>\n",
       "    .dataframe tbody tr th:only-of-type {\n",
       "        vertical-align: middle;\n",
       "    }\n",
       "\n",
       "    .dataframe tbody tr th {\n",
       "        vertical-align: top;\n",
       "    }\n",
       "\n",
       "    .dataframe thead th {\n",
       "        text-align: right;\n",
       "    }\n",
       "</style>\n",
       "<table border=\"1\" class=\"dataframe\">\n",
       "  <thead>\n",
       "    <tr style=\"text-align: right;\">\n",
       "      <th></th>\n",
       "      <th>Car</th>\n",
       "      <th>Color</th>\n",
       "      <th>Year</th>\n",
       "      <th>Rating</th>\n",
       "      <th>Service</th>\n",
       "    </tr>\n",
       "  </thead>\n",
       "  <tbody>\n",
       "    <tr>\n",
       "      <th>0</th>\n",
       "      <td>A</td>\n",
       "      <td>Red</td>\n",
       "      <td>1990</td>\n",
       "      <td>2.5</td>\n",
       "      <td>30/05/2010</td>\n",
       "    </tr>\n",
       "    <tr>\n",
       "      <th>1</th>\n",
       "      <td>B</td>\n",
       "      <td>Yellow</td>\n",
       "      <td>1980</td>\n",
       "      <td>1.5</td>\n",
       "      <td>31/08/1999</td>\n",
       "    </tr>\n",
       "    <tr>\n",
       "      <th>2</th>\n",
       "      <td>C</td>\n",
       "      <td>Black</td>\n",
       "      <td>2003</td>\n",
       "      <td>3.8</td>\n",
       "      <td>28/12/2005</td>\n",
       "    </tr>\n",
       "    <tr>\n",
       "      <th>3</th>\n",
       "      <td>D</td>\n",
       "      <td>Green</td>\n",
       "      <td>2000</td>\n",
       "      <td>9.7</td>\n",
       "      <td>29/06/2011</td>\n",
       "    </tr>\n",
       "    <tr>\n",
       "      <th>4</th>\n",
       "      <td>E</td>\n",
       "      <td>Black</td>\n",
       "      <td>2001</td>\n",
       "      <td>8.9</td>\n",
       "      <td>30/12/2020</td>\n",
       "    </tr>\n",
       "  </tbody>\n",
       "</table>\n",
       "</div>"
      ],
      "text/plain": [
       "  Car   Color  Year Rating     Service\n",
       "0   A     Red  1990    2.5  30/05/2010\n",
       "1   B  Yellow  1980    1.5  31/08/1999\n",
       "2   C   Black  2003    3.8  28/12/2005\n",
       "3   D   Green  2000    9.7  29/06/2011\n",
       "4   E   Black  2001    8.9  30/12/2020"
      ]
     },
     "execution_count": 5,
     "metadata": {},
     "output_type": "execute_result"
    }
   ],
   "source": [
    "df1[\"Year\"] = df1[\"Year\"].astype(\"int64\")\n",
    "df1.head()"
   ]
  },
  {
   "cell_type": "code",
   "execution_count": 6,
   "metadata": {},
   "outputs": [
    {
     "name": "stdout",
     "output_type": "stream",
     "text": [
      "<class 'pandas.core.frame.DataFrame'>\n",
      "RangeIndex: 8 entries, 0 to 7\n",
      "Data columns (total 5 columns):\n",
      " #   Column   Non-Null Count  Dtype \n",
      "---  ------   --------------  ----- \n",
      " 0   Car      8 non-null      object\n",
      " 1   Color    8 non-null      object\n",
      " 2   Year     8 non-null      int64 \n",
      " 3   Rating   8 non-null      object\n",
      " 4   Service  8 non-null      object\n",
      "dtypes: int64(1), object(4)\n",
      "memory usage: 448.0+ bytes\n"
     ]
    }
   ],
   "source": [
    "df1.info()"
   ]
  },
  {
   "cell_type": "markdown",
   "metadata": {},
   "source": [
    "#### Using astype() on all the columns at once"
   ]
  },
  {
   "cell_type": "code",
   "execution_count": 17,
   "metadata": {},
   "outputs": [
    {
     "name": "stdout",
     "output_type": "stream",
     "text": [
      "<class 'pandas.core.frame.DataFrame'>\n",
      "RangeIndex: 8 entries, 0 to 7\n",
      "Data columns (total 5 columns):\n",
      " #   Column   Non-Null Count  Dtype     \n",
      "---  ------   --------------  -----     \n",
      " 0   Car      8 non-null      object    \n",
      " 1   Color    8 non-null      object    \n",
      " 2   Year     8 non-null      complex128\n",
      " 3   Rating   8 non-null      float64   \n",
      " 4   Service  8 non-null      object    \n",
      "dtypes: complex128(1), float64(1), object(3)\n",
      "memory usage: 512.0+ bytes\n"
     ]
    }
   ],
   "source": [
    "df1 = df1.astype({\"Year\": \"complex\", \"Rating\": \"float64\",\\\n",
    "                  \"Car\": 'int32'}, errors='ignore')\n",
    "df1.info()"
   ]
  },
  {
   "cell_type": "code",
   "execution_count": 14,
   "metadata": {},
   "outputs": [
    {
     "data": {
      "text/html": [
       "<div>\n",
       "<style scoped>\n",
       "    .dataframe tbody tr th:only-of-type {\n",
       "        vertical-align: middle;\n",
       "    }\n",
       "\n",
       "    .dataframe tbody tr th {\n",
       "        vertical-align: top;\n",
       "    }\n",
       "\n",
       "    .dataframe thead th {\n",
       "        text-align: right;\n",
       "    }\n",
       "</style>\n",
       "<table border=\"1\" class=\"dataframe\">\n",
       "  <thead>\n",
       "    <tr style=\"text-align: right;\">\n",
       "      <th></th>\n",
       "      <th>Car</th>\n",
       "      <th>Color</th>\n",
       "      <th>Year</th>\n",
       "      <th>Rating</th>\n",
       "      <th>Service</th>\n",
       "    </tr>\n",
       "  </thead>\n",
       "  <tbody>\n",
       "    <tr>\n",
       "      <th>0</th>\n",
       "      <td>A</td>\n",
       "      <td>Red</td>\n",
       "      <td>1990</td>\n",
       "      <td>2.5</td>\n",
       "      <td>30/05/2010</td>\n",
       "    </tr>\n",
       "    <tr>\n",
       "      <th>1</th>\n",
       "      <td>B</td>\n",
       "      <td>Yellow</td>\n",
       "      <td>1980</td>\n",
       "      <td>1.5</td>\n",
       "      <td>31/08/1999</td>\n",
       "    </tr>\n",
       "    <tr>\n",
       "      <th>2</th>\n",
       "      <td>C</td>\n",
       "      <td>Black</td>\n",
       "      <td>2003</td>\n",
       "      <td>3.8</td>\n",
       "      <td>28/12/2005</td>\n",
       "    </tr>\n",
       "    <tr>\n",
       "      <th>3</th>\n",
       "      <td>D</td>\n",
       "      <td>Green</td>\n",
       "      <td>2000</td>\n",
       "      <td>9.7</td>\n",
       "      <td>29/06/2011</td>\n",
       "    </tr>\n",
       "    <tr>\n",
       "      <th>4</th>\n",
       "      <td>E</td>\n",
       "      <td>Black</td>\n",
       "      <td>2001</td>\n",
       "      <td>8.9</td>\n",
       "      <td>30/12/2020</td>\n",
       "    </tr>\n",
       "  </tbody>\n",
       "</table>\n",
       "</div>"
      ],
      "text/plain": [
       "  Car   Color  Year Rating     Service\n",
       "0   A     Red  1990    2.5  30/05/2010\n",
       "1   B  Yellow  1980    1.5  31/08/1999\n",
       "2   C   Black  2003    3.8  28/12/2005\n",
       "3   D   Green  2000    9.7  29/06/2011\n",
       "4   E   Black  2001    8.9  30/12/2020"
      ]
     },
     "execution_count": 14,
     "metadata": {},
     "output_type": "execute_result"
    }
   ],
   "source": [
    "df1[\"Car\"] = df1[\"Car\"].astype(\"int64\", errors='ignore')\n",
    "df1.head()"
   ]
  },
  {
   "cell_type": "code",
   "execution_count": 15,
   "metadata": {},
   "outputs": [
    {
     "name": "stdout",
     "output_type": "stream",
     "text": [
      "<class 'pandas.core.frame.DataFrame'>\n",
      "RangeIndex: 8 entries, 0 to 7\n",
      "Data columns (total 5 columns):\n",
      " #   Column   Non-Null Count  Dtype \n",
      "---  ------   --------------  ----- \n",
      " 0   Car      8 non-null      object\n",
      " 1   Color    8 non-null      object\n",
      " 2   Year     8 non-null      int64 \n",
      " 3   Rating   8 non-null      object\n",
      " 4   Service  8 non-null      object\n",
      "dtypes: int64(1), object(4)\n",
      "memory usage: 448.0+ bytes\n"
     ]
    }
   ],
   "source": [
    "df1.info()"
   ]
  },
  {
   "cell_type": "code",
   "execution_count": 16,
   "metadata": {},
   "outputs": [
    {
     "data": {
      "text/html": [
       "<div>\n",
       "<style scoped>\n",
       "    .dataframe tbody tr th:only-of-type {\n",
       "        vertical-align: middle;\n",
       "    }\n",
       "\n",
       "    .dataframe tbody tr th {\n",
       "        vertical-align: top;\n",
       "    }\n",
       "\n",
       "    .dataframe thead th {\n",
       "        text-align: right;\n",
       "    }\n",
       "</style>\n",
       "<table border=\"1\" class=\"dataframe\">\n",
       "  <thead>\n",
       "    <tr style=\"text-align: right;\">\n",
       "      <th></th>\n",
       "      <th>Car</th>\n",
       "      <th>Color</th>\n",
       "      <th>Year</th>\n",
       "      <th>Rating</th>\n",
       "      <th>Service</th>\n",
       "    </tr>\n",
       "  </thead>\n",
       "  <tbody>\n",
       "    <tr>\n",
       "      <th>0</th>\n",
       "      <td>A</td>\n",
       "      <td>Red</td>\n",
       "      <td>1990</td>\n",
       "      <td>2.5</td>\n",
       "      <td>30/05/2010</td>\n",
       "    </tr>\n",
       "    <tr>\n",
       "      <th>1</th>\n",
       "      <td>B</td>\n",
       "      <td>Yellow</td>\n",
       "      <td>1980</td>\n",
       "      <td>1.5</td>\n",
       "      <td>31/08/1999</td>\n",
       "    </tr>\n",
       "    <tr>\n",
       "      <th>2</th>\n",
       "      <td>C</td>\n",
       "      <td>Black</td>\n",
       "      <td>2003</td>\n",
       "      <td>3.8</td>\n",
       "      <td>28/12/2005</td>\n",
       "    </tr>\n",
       "    <tr>\n",
       "      <th>3</th>\n",
       "      <td>D</td>\n",
       "      <td>Green</td>\n",
       "      <td>2000</td>\n",
       "      <td>9.7</td>\n",
       "      <td>29/06/2011</td>\n",
       "    </tr>\n",
       "    <tr>\n",
       "      <th>4</th>\n",
       "      <td>E</td>\n",
       "      <td>Black</td>\n",
       "      <td>2001</td>\n",
       "      <td>8.9</td>\n",
       "      <td>30/12/2020</td>\n",
       "    </tr>\n",
       "  </tbody>\n",
       "</table>\n",
       "</div>"
      ],
      "text/plain": [
       "  Car   Color  Year Rating     Service\n",
       "0   A     Red  1990    2.5  30/05/2010\n",
       "1   B  Yellow  1980    1.5  31/08/1999\n",
       "2   C   Black  2003    3.8  28/12/2005\n",
       "3   D   Green  2000    9.7  29/06/2011\n",
       "4   E   Black  2001    8.9  30/12/2020"
      ]
     },
     "execution_count": 16,
     "metadata": {},
     "output_type": "execute_result"
    }
   ],
   "source": [
    "df1 = df1.astype(\"int64\", errors='ignore')\n",
    "df1.head()"
   ]
  },
  {
   "cell_type": "code",
   "execution_count": 11,
   "metadata": {},
   "outputs": [
    {
     "name": "stdout",
     "output_type": "stream",
     "text": [
      "<class 'pandas.core.frame.DataFrame'>\n",
      "RangeIndex: 8 entries, 0 to 7\n",
      "Data columns (total 6 columns):\n",
      " #   Column   Non-Null Count  Dtype \n",
      "---  ------   --------------  ----- \n",
      " 0   Car      8 non-null      object\n",
      " 1   Color    8 non-null      object\n",
      " 2   Year     8 non-null      int64 \n",
      " 3   Rating   8 non-null      int64 \n",
      " 4   Service  8 non-null      object\n",
      " 5   Repair   8 non-null      object\n",
      "dtypes: int64(2), object(4)\n",
      "memory usage: 512.0+ bytes\n"
     ]
    }
   ],
   "source": [
    "df1.info()"
   ]
  },
  {
   "cell_type": "markdown",
   "metadata": {},
   "source": [
    "#### Method 2:\n",
    "### pandas.to_datetime()"
   ]
  },
  {
   "cell_type": "code",
   "execution_count": 23,
   "metadata": {},
   "outputs": [],
   "source": [
    "df2 = df.copy()"
   ]
  },
  {
   "cell_type": "code",
   "execution_count": 26,
   "metadata": {},
   "outputs": [
    {
     "data": {
      "text/html": [
       "<div>\n",
       "<style scoped>\n",
       "    .dataframe tbody tr th:only-of-type {\n",
       "        vertical-align: middle;\n",
       "    }\n",
       "\n",
       "    .dataframe tbody tr th {\n",
       "        vertical-align: top;\n",
       "    }\n",
       "\n",
       "    .dataframe thead th {\n",
       "        text-align: right;\n",
       "    }\n",
       "</style>\n",
       "<table border=\"1\" class=\"dataframe\">\n",
       "  <thead>\n",
       "    <tr style=\"text-align: right;\">\n",
       "      <th></th>\n",
       "      <th>Car</th>\n",
       "      <th>Color</th>\n",
       "      <th>Year</th>\n",
       "      <th>Rating</th>\n",
       "      <th>Service</th>\n",
       "      <th>RealDate</th>\n",
       "    </tr>\n",
       "  </thead>\n",
       "  <tbody>\n",
       "    <tr>\n",
       "      <th>0</th>\n",
       "      <td>A</td>\n",
       "      <td>Red</td>\n",
       "      <td>1990</td>\n",
       "      <td>2.5</td>\n",
       "      <td>30/05/2010</td>\n",
       "      <td>2010-05-30</td>\n",
       "    </tr>\n",
       "    <tr>\n",
       "      <th>1</th>\n",
       "      <td>B</td>\n",
       "      <td>Yellow</td>\n",
       "      <td>1980</td>\n",
       "      <td>1.5</td>\n",
       "      <td>31/08/1999</td>\n",
       "      <td>1999-08-31</td>\n",
       "    </tr>\n",
       "    <tr>\n",
       "      <th>2</th>\n",
       "      <td>C</td>\n",
       "      <td>Black</td>\n",
       "      <td>2003</td>\n",
       "      <td>3.8</td>\n",
       "      <td>28/12/2005</td>\n",
       "      <td>2005-12-28</td>\n",
       "    </tr>\n",
       "    <tr>\n",
       "      <th>3</th>\n",
       "      <td>D</td>\n",
       "      <td>Green</td>\n",
       "      <td>2000</td>\n",
       "      <td>9.7</td>\n",
       "      <td>29/06/2011</td>\n",
       "      <td>2011-06-29</td>\n",
       "    </tr>\n",
       "    <tr>\n",
       "      <th>4</th>\n",
       "      <td>E</td>\n",
       "      <td>Black</td>\n",
       "      <td>2001</td>\n",
       "      <td>8.9</td>\n",
       "      <td>30/12/2020</td>\n",
       "      <td>2020-12-30</td>\n",
       "    </tr>\n",
       "    <tr>\n",
       "      <th>5</th>\n",
       "      <td>F</td>\n",
       "      <td>Red</td>\n",
       "      <td>2004</td>\n",
       "      <td>3.2</td>\n",
       "      <td>31/07/2013</td>\n",
       "      <td>2013-07-31</td>\n",
       "    </tr>\n",
       "    <tr>\n",
       "      <th>6</th>\n",
       "      <td>G</td>\n",
       "      <td>Black</td>\n",
       "      <td>1999</td>\n",
       "      <td>5.5</td>\n",
       "      <td>28/11/2000</td>\n",
       "      <td>2000-11-28</td>\n",
       "    </tr>\n",
       "    <tr>\n",
       "      <th>7</th>\n",
       "      <td>H</td>\n",
       "      <td>Black</td>\n",
       "      <td>2020</td>\n",
       "      <td>6.9</td>\n",
       "      <td>25/12/2020</td>\n",
       "      <td>2020-12-25</td>\n",
       "    </tr>\n",
       "  </tbody>\n",
       "</table>\n",
       "</div>"
      ],
      "text/plain": [
       "  Car   Color  Year  Rating     Service   RealDate\n",
       "0   A     Red  1990     2.5  30/05/2010 2010-05-30\n",
       "1   B  Yellow  1980     1.5  31/08/1999 1999-08-31\n",
       "2   C   Black  2003     3.8  28/12/2005 2005-12-28\n",
       "3   D   Green  2000     9.7  29/06/2011 2011-06-29\n",
       "4   E   Black  2001     8.9  30/12/2020 2020-12-30\n",
       "5   F     Red  2004     3.2  31/07/2013 2013-07-31\n",
       "6   G   Black  1999     5.5  28/11/2000 2000-11-28\n",
       "7   H   Black  2020     6.9  25/12/2020 2020-12-25"
      ]
     },
     "execution_count": 26,
     "metadata": {},
     "output_type": "execute_result"
    }
   ],
   "source": [
    "df2[\"RealDate\"] = pd.to_datetime(df2[\"Service\"])\n",
    "df2"
   ]
  },
  {
   "cell_type": "code",
   "execution_count": 20,
   "metadata": {},
   "outputs": [
    {
     "name": "stdout",
     "output_type": "stream",
     "text": [
      "<class 'pandas.core.frame.DataFrame'>\n",
      "RangeIndex: 8 entries, 0 to 7\n",
      "Data columns (total 6 columns):\n",
      " #   Column    Non-Null Count  Dtype         \n",
      "---  ------    --------------  -----         \n",
      " 0   Car       8 non-null      object        \n",
      " 1   Color     8 non-null      object        \n",
      " 2   Year      8 non-null      object        \n",
      " 3   Rating    8 non-null      object        \n",
      " 4   Service   8 non-null      object        \n",
      " 5   RealDate  8 non-null      datetime64[ns]\n",
      "dtypes: datetime64[ns](1), object(5)\n",
      "memory usage: 512.0+ bytes\n"
     ]
    }
   ],
   "source": [
    "df2.info()"
   ]
  },
  {
   "cell_type": "code",
   "execution_count": 21,
   "metadata": {},
   "outputs": [],
   "source": [
    "df2[\"Rating\"]=pd.to_numeric(df2[\"Rating\"])"
   ]
  },
  {
   "cell_type": "code",
   "execution_count": 22,
   "metadata": {},
   "outputs": [
    {
     "name": "stdout",
     "output_type": "stream",
     "text": [
      "<class 'pandas.core.frame.DataFrame'>\n",
      "RangeIndex: 8 entries, 0 to 7\n",
      "Data columns (total 6 columns):\n",
      " #   Column    Non-Null Count  Dtype         \n",
      "---  ------    --------------  -----         \n",
      " 0   Car       8 non-null      object        \n",
      " 1   Color     8 non-null      object        \n",
      " 2   Year      8 non-null      object        \n",
      " 3   Rating    8 non-null      float64       \n",
      " 4   Service   8 non-null      object        \n",
      " 5   RealDate  8 non-null      datetime64[ns]\n",
      "dtypes: datetime64[ns](1), float64(1), object(4)\n",
      "memory usage: 512.0+ bytes\n"
     ]
    }
   ],
   "source": [
    "df2.info()"
   ]
  },
  {
   "cell_type": "code",
   "execution_count": 24,
   "metadata": {},
   "outputs": [
    {
     "data": {
      "text/html": [
       "<div>\n",
       "<style scoped>\n",
       "    .dataframe tbody tr th:only-of-type {\n",
       "        vertical-align: middle;\n",
       "    }\n",
       "\n",
       "    .dataframe tbody tr th {\n",
       "        vertical-align: top;\n",
       "    }\n",
       "\n",
       "    .dataframe thead th {\n",
       "        text-align: right;\n",
       "    }\n",
       "</style>\n",
       "<table border=\"1\" class=\"dataframe\">\n",
       "  <thead>\n",
       "    <tr style=\"text-align: right;\">\n",
       "      <th></th>\n",
       "      <th>Car</th>\n",
       "      <th>Color</th>\n",
       "      <th>Year</th>\n",
       "      <th>Rating</th>\n",
       "      <th>Service</th>\n",
       "    </tr>\n",
       "  </thead>\n",
       "  <tbody>\n",
       "    <tr>\n",
       "      <th>0</th>\n",
       "      <td>A</td>\n",
       "      <td>Red</td>\n",
       "      <td>1990</td>\n",
       "      <td>2.5</td>\n",
       "      <td>30/05/2010</td>\n",
       "    </tr>\n",
       "    <tr>\n",
       "      <th>1</th>\n",
       "      <td>B</td>\n",
       "      <td>Yellow</td>\n",
       "      <td>1980</td>\n",
       "      <td>1.5</td>\n",
       "      <td>31/08/1999</td>\n",
       "    </tr>\n",
       "    <tr>\n",
       "      <th>2</th>\n",
       "      <td>C</td>\n",
       "      <td>Black</td>\n",
       "      <td>2003</td>\n",
       "      <td>3.8</td>\n",
       "      <td>28/12/2005</td>\n",
       "    </tr>\n",
       "    <tr>\n",
       "      <th>3</th>\n",
       "      <td>D</td>\n",
       "      <td>Green</td>\n",
       "      <td>2000</td>\n",
       "      <td>9.7</td>\n",
       "      <td>29/06/2011</td>\n",
       "    </tr>\n",
       "    <tr>\n",
       "      <th>4</th>\n",
       "      <td>E</td>\n",
       "      <td>Black</td>\n",
       "      <td>2001</td>\n",
       "      <td>8.9</td>\n",
       "      <td>30/12/2020</td>\n",
       "    </tr>\n",
       "  </tbody>\n",
       "</table>\n",
       "</div>"
      ],
      "text/plain": [
       "  Car   Color  Year  Rating     Service\n",
       "0   A     Red  1990     2.5  30/05/2010\n",
       "1   B  Yellow  1980     1.5  31/08/1999\n",
       "2   C   Black  2003     3.8  28/12/2005\n",
       "3   D   Green  2000     9.7  29/06/2011\n",
       "4   E   Black  2001     8.9  30/12/2020"
      ]
     },
     "execution_count": 24,
     "metadata": {},
     "output_type": "execute_result"
    }
   ],
   "source": [
    "df2[[\"Rating\", \"Year\"]] = df2[[\"Rating\",\\\n",
    "                               \"Year\"]].apply(pd.to_numeric)\n",
    "df2.head()"
   ]
  },
  {
   "cell_type": "code",
   "execution_count": 27,
   "metadata": {},
   "outputs": [
    {
     "name": "stdout",
     "output_type": "stream",
     "text": [
      "<class 'pandas.core.frame.DataFrame'>\n",
      "RangeIndex: 8 entries, 0 to 7\n",
      "Data columns (total 6 columns):\n",
      " #   Column    Non-Null Count  Dtype         \n",
      "---  ------    --------------  -----         \n",
      " 0   Car       8 non-null      object        \n",
      " 1   Color     8 non-null      object        \n",
      " 2   Year      8 non-null      int64         \n",
      " 3   Rating    8 non-null      float64       \n",
      " 4   Service   8 non-null      object        \n",
      " 5   RealDate  8 non-null      datetime64[ns]\n",
      "dtypes: datetime64[ns](1), float64(1), int64(1), object(3)\n",
      "memory usage: 512.0+ bytes\n"
     ]
    }
   ],
   "source": [
    "df2.info()"
   ]
  },
  {
   "cell_type": "markdown",
   "metadata": {},
   "source": [
    "#### Method 3:\n",
    "### convert_dtypes()"
   ]
  },
  {
   "cell_type": "code",
   "execution_count": 33,
   "metadata": {},
   "outputs": [],
   "source": [
    "df3 = df.copy()"
   ]
  },
  {
   "cell_type": "code",
   "execution_count": 34,
   "metadata": {},
   "outputs": [
    {
     "name": "stdout",
     "output_type": "stream",
     "text": [
      "<class 'pandas.core.frame.DataFrame'>\n",
      "RangeIndex: 8 entries, 0 to 7\n",
      "Data columns (total 5 columns):\n",
      " #   Column   Non-Null Count  Dtype \n",
      "---  ------   --------------  ----- \n",
      " 0   Car      8 non-null      object\n",
      " 1   Color    8 non-null      object\n",
      " 2   Year     8 non-null      object\n",
      " 3   Rating   8 non-null      object\n",
      " 4   Service  8 non-null      object\n",
      "dtypes: object(5)\n",
      "memory usage: 448.0+ bytes\n"
     ]
    }
   ],
   "source": [
    "df3.info()"
   ]
  },
  {
   "cell_type": "code",
   "execution_count": 36,
   "metadata": {},
   "outputs": [
    {
     "name": "stdout",
     "output_type": "stream",
     "text": [
      "<class 'pandas.core.frame.DataFrame'>\n",
      "RangeIndex: 8 entries, 0 to 7\n",
      "Data columns (total 5 columns):\n",
      " #   Column   Non-Null Count  Dtype \n",
      "---  ------   --------------  ----- \n",
      " 0   Car      8 non-null      string\n",
      " 1   Color    8 non-null      string\n",
      " 2   Year     8 non-null      string\n",
      " 3   Rating   8 non-null      string\n",
      " 4   Service  8 non-null      string\n",
      "dtypes: string(5)\n",
      "memory usage: 448.0 bytes\n"
     ]
    }
   ],
   "source": [
    "dfn = df3.convert_dtypes()\n",
    "dfn.info()"
   ]
  },
  {
   "cell_type": "markdown",
   "metadata": {},
   "source": [
    "---------------------------------------------------------------------------"
   ]
  },
  {
   "cell_type": "markdown",
   "metadata": {},
   "source": [
    "#### Thank You for your time!"
   ]
  },
  {
   "cell_type": "code",
   "execution_count": null,
   "metadata": {},
   "outputs": [],
   "source": []
  }
 ],
 "metadata": {
  "kernelspec": {
   "display_name": "Python 3",
   "language": "python",
   "name": "python3"
  },
  "language_info": {
   "codemirror_mode": {
    "name": "ipython",
    "version": 3
   },
   "file_extension": ".py",
   "mimetype": "text/x-python",
   "name": "python",
   "nbconvert_exporter": "python",
   "pygments_lexer": "ipython3",
   "version": "3.7.6"
  }
 },
 "nbformat": 4,
 "nbformat_minor": 4
}
